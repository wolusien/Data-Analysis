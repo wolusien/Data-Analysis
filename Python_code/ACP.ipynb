{
 "cells": [
  {
   "cell_type": "markdown",
   "metadata": {},
   "source": [
    "# librairies utilisées"
   ]
  },
  {
   "cell_type": "code",
   "execution_count": 1,
   "metadata": {},
   "outputs": [],
   "source": [
    "import pandas as pd\n",
    "import sklearn as sk\n",
    "import numpy as np\n",
    "import matplotlib.pyplot as plt"
   ]
  },
  {
   "cell_type": "markdown",
   "metadata": {},
   "source": [
    "# L'ACP ou PCA avec le jeu de données BigMac\n",
    "En résumé, l'analyse en composantes princales permet :  \n",
    "\n",
    "* d'identifier des \"profils cachés\" dans un jeu de données,  \n",
    "\n",
    "* de réduire les dimensions des données en enlevant la redondance des données,  \n",
    "\n",
    "* d'indentifier les variables corrélées"
   ]
  },
  {
   "cell_type": "code",
   "execution_count": 2,
   "metadata": {},
   "outputs": [
    {
     "name": "stdout",
     "output_type": "stream",
     "text": [
      "<class 'pandas.core.frame.DataFrame'>\n"
     ]
    },
    {
     "data": {
      "text/html": [
       "<div>\n",
       "<style scoped>\n",
       "    .dataframe tbody tr th:only-of-type {\n",
       "        vertical-align: middle;\n",
       "    }\n",
       "\n",
       "    .dataframe tbody tr th {\n",
       "        vertical-align: top;\n",
       "    }\n",
       "\n",
       "    .dataframe thead th {\n",
       "        text-align: right;\n",
       "    }\n",
       "</style>\n",
       "<table border=\"1\" class=\"dataframe\">\n",
       "  <thead>\n",
       "    <tr style=\"text-align: right;\">\n",
       "      <th></th>\n",
       "      <th>Unnamed: 0</th>\n",
       "      <th>BigMac</th>\n",
       "      <th>Bread</th>\n",
       "      <th>Rice</th>\n",
       "      <th>FoodIndex</th>\n",
       "      <th>Bus</th>\n",
       "      <th>Apt</th>\n",
       "      <th>TeachGI</th>\n",
       "      <th>TeachNI</th>\n",
       "      <th>TaxRate</th>\n",
       "      <th>TeachHours</th>\n",
       "    </tr>\n",
       "  </thead>\n",
       "  <tbody>\n",
       "    <tr>\n",
       "      <th>0</th>\n",
       "      <td>Amsterdam</td>\n",
       "      <td>16</td>\n",
       "      <td>9</td>\n",
       "      <td>9</td>\n",
       "      <td>65.9</td>\n",
       "      <td>2.00</td>\n",
       "      <td>890</td>\n",
       "      <td>34.3</td>\n",
       "      <td>20.5</td>\n",
       "      <td>40.2332</td>\n",
       "      <td>39</td>\n",
       "    </tr>\n",
       "    <tr>\n",
       "      <th>1</th>\n",
       "      <td>Athens</td>\n",
       "      <td>21</td>\n",
       "      <td>12</td>\n",
       "      <td>19</td>\n",
       "      <td>63.5</td>\n",
       "      <td>0.61</td>\n",
       "      <td>620</td>\n",
       "      <td>19.5</td>\n",
       "      <td>15.9</td>\n",
       "      <td>18.4615</td>\n",
       "      <td>29</td>\n",
       "    </tr>\n",
       "    <tr>\n",
       "      <th>2</th>\n",
       "      <td>Auckland</td>\n",
       "      <td>19</td>\n",
       "      <td>19</td>\n",
       "      <td>9</td>\n",
       "      <td>55.4</td>\n",
       "      <td>1.57</td>\n",
       "      <td>780</td>\n",
       "      <td>22.0</td>\n",
       "      <td>16.1</td>\n",
       "      <td>26.8182</td>\n",
       "      <td>40</td>\n",
       "    </tr>\n",
       "    <tr>\n",
       "      <th>3</th>\n",
       "      <td>Bangkok</td>\n",
       "      <td>50</td>\n",
       "      <td>42</td>\n",
       "      <td>25</td>\n",
       "      <td>46.4</td>\n",
       "      <td>0.47</td>\n",
       "      <td>120</td>\n",
       "      <td>4.2</td>\n",
       "      <td>4.0</td>\n",
       "      <td>4.7619</td>\n",
       "      <td>35</td>\n",
       "    </tr>\n",
       "    <tr>\n",
       "      <th>4</th>\n",
       "      <td>Barcelona</td>\n",
       "      <td>22</td>\n",
       "      <td>19</td>\n",
       "      <td>10</td>\n",
       "      <td>62.9</td>\n",
       "      <td>0.91</td>\n",
       "      <td>590</td>\n",
       "      <td>25.5</td>\n",
       "      <td>20.1</td>\n",
       "      <td>21.1765</td>\n",
       "      <td>39</td>\n",
       "    </tr>\n",
       "  </tbody>\n",
       "</table>\n",
       "</div>"
      ],
      "text/plain": [
       "  Unnamed: 0  BigMac  Bread  Rice  FoodIndex   Bus  Apt  TeachGI  TeachNI  \\\n",
       "0  Amsterdam      16      9     9       65.9  2.00  890     34.3     20.5   \n",
       "1     Athens      21     12    19       63.5  0.61  620     19.5     15.9   \n",
       "2   Auckland      19     19     9       55.4  1.57  780     22.0     16.1   \n",
       "3    Bangkok      50     42    25       46.4  0.47  120      4.2      4.0   \n",
       "4  Barcelona      22     19    10       62.9  0.91  590     25.5     20.1   \n",
       "\n",
       "   TaxRate  TeachHours  \n",
       "0  40.2332          39  \n",
       "1  18.4615          29  \n",
       "2  26.8182          40  \n",
       "3   4.7619          35  \n",
       "4  21.1765          39  "
      ]
     },
     "execution_count": 2,
     "metadata": {},
     "output_type": "execute_result"
    }
   ],
   "source": [
    "mcdo = pd.read_csv(\"../BigMac2003.csv\",sep=\",\")\n",
    "print(type(mcdo))\n",
    "mcdo.head()"
   ]
  },
  {
   "cell_type": "code",
   "execution_count": 3,
   "metadata": {},
   "outputs": [
    {
     "data": {
      "text/plain": [
       "(69, 11)"
      ]
     },
     "execution_count": 3,
     "metadata": {},
     "output_type": "execute_result"
    }
   ],
   "source": [
    "#nombre d'observations\n",
    "n = mcdo.shape[0]\n",
    "#nombre de variables quantitatives\n",
    "p = mcdo.shape[1]-1\n",
    "\n",
    "mcdo.shape"
   ]
  },
  {
   "cell_type": "code",
   "execution_count": 4,
   "metadata": {},
   "outputs": [
    {
     "name": "stdout",
     "output_type": "stream",
     "text": [
      "Unnamed: 0     object\n",
      "BigMac          int64\n",
      "Bread           int64\n",
      "Rice            int64\n",
      "FoodIndex     float64\n",
      "Bus           float64\n",
      "Apt             int64\n",
      "TeachGI       float64\n",
      "TeachNI       float64\n",
      "TaxRate       float64\n",
      "TeachHours      int64\n",
      "dtype: object\n"
     ]
    }
   ],
   "source": [
    "# Type des variables\n",
    "print(mcdo.dtypes)"
   ]
  },
  {
   "cell_type": "markdown",
   "metadata": {},
   "source": [
    "Notre jeu de données comporte 69 observations pour 11 variables.  \n",
    "On renomme la variable *Unamed:0* en *City* : "
   ]
  },
  {
   "cell_type": "code",
   "execution_count": 5,
   "metadata": {},
   "outputs": [
    {
     "data": {
      "text/html": [
       "<div>\n",
       "<style scoped>\n",
       "    .dataframe tbody tr th:only-of-type {\n",
       "        vertical-align: middle;\n",
       "    }\n",
       "\n",
       "    .dataframe tbody tr th {\n",
       "        vertical-align: top;\n",
       "    }\n",
       "\n",
       "    .dataframe thead th {\n",
       "        text-align: right;\n",
       "    }\n",
       "</style>\n",
       "<table border=\"1\" class=\"dataframe\">\n",
       "  <thead>\n",
       "    <tr style=\"text-align: right;\">\n",
       "      <th></th>\n",
       "      <th>City</th>\n",
       "      <th>BigMac</th>\n",
       "      <th>Bread</th>\n",
       "      <th>Rice</th>\n",
       "      <th>FoodIndex</th>\n",
       "      <th>Bus</th>\n",
       "      <th>Apt</th>\n",
       "      <th>TeachGI</th>\n",
       "      <th>TeachNI</th>\n",
       "      <th>TaxRate</th>\n",
       "      <th>TeachHours</th>\n",
       "    </tr>\n",
       "  </thead>\n",
       "  <tbody>\n",
       "    <tr>\n",
       "      <th>0</th>\n",
       "      <td>Amsterdam</td>\n",
       "      <td>16</td>\n",
       "      <td>9</td>\n",
       "      <td>9</td>\n",
       "      <td>65.9</td>\n",
       "      <td>2.00</td>\n",
       "      <td>890</td>\n",
       "      <td>34.3</td>\n",
       "      <td>20.5</td>\n",
       "      <td>40.2332</td>\n",
       "      <td>39</td>\n",
       "    </tr>\n",
       "    <tr>\n",
       "      <th>1</th>\n",
       "      <td>Athens</td>\n",
       "      <td>21</td>\n",
       "      <td>12</td>\n",
       "      <td>19</td>\n",
       "      <td>63.5</td>\n",
       "      <td>0.61</td>\n",
       "      <td>620</td>\n",
       "      <td>19.5</td>\n",
       "      <td>15.9</td>\n",
       "      <td>18.4615</td>\n",
       "      <td>29</td>\n",
       "    </tr>\n",
       "    <tr>\n",
       "      <th>2</th>\n",
       "      <td>Auckland</td>\n",
       "      <td>19</td>\n",
       "      <td>19</td>\n",
       "      <td>9</td>\n",
       "      <td>55.4</td>\n",
       "      <td>1.57</td>\n",
       "      <td>780</td>\n",
       "      <td>22.0</td>\n",
       "      <td>16.1</td>\n",
       "      <td>26.8182</td>\n",
       "      <td>40</td>\n",
       "    </tr>\n",
       "    <tr>\n",
       "      <th>3</th>\n",
       "      <td>Bangkok</td>\n",
       "      <td>50</td>\n",
       "      <td>42</td>\n",
       "      <td>25</td>\n",
       "      <td>46.4</td>\n",
       "      <td>0.47</td>\n",
       "      <td>120</td>\n",
       "      <td>4.2</td>\n",
       "      <td>4.0</td>\n",
       "      <td>4.7619</td>\n",
       "      <td>35</td>\n",
       "    </tr>\n",
       "    <tr>\n",
       "      <th>4</th>\n",
       "      <td>Barcelona</td>\n",
       "      <td>22</td>\n",
       "      <td>19</td>\n",
       "      <td>10</td>\n",
       "      <td>62.9</td>\n",
       "      <td>0.91</td>\n",
       "      <td>590</td>\n",
       "      <td>25.5</td>\n",
       "      <td>20.1</td>\n",
       "      <td>21.1765</td>\n",
       "      <td>39</td>\n",
       "    </tr>\n",
       "  </tbody>\n",
       "</table>\n",
       "</div>"
      ],
      "text/plain": [
       "        City  BigMac  Bread  Rice  FoodIndex   Bus  Apt  TeachGI  TeachNI  \\\n",
       "0  Amsterdam      16      9     9       65.9  2.00  890     34.3     20.5   \n",
       "1     Athens      21     12    19       63.5  0.61  620     19.5     15.9   \n",
       "2   Auckland      19     19     9       55.4  1.57  780     22.0     16.1   \n",
       "3    Bangkok      50     42    25       46.4  0.47  120      4.2      4.0   \n",
       "4  Barcelona      22     19    10       62.9  0.91  590     25.5     20.1   \n",
       "\n",
       "   TaxRate  TeachHours  \n",
       "0  40.2332          39  \n",
       "1  18.4615          29  \n",
       "2  26.8182          40  \n",
       "3   4.7619          35  \n",
       "4  21.1765          39  "
      ]
     },
     "execution_count": 5,
     "metadata": {},
     "output_type": "execute_result"
    }
   ],
   "source": [
    "mcdo = mcdo.rename(columns={mcdo.columns[0]:\"City\"})\n",
    "mcdo.head()"
   ]
  },
  {
   "cell_type": "markdown",
   "metadata": {},
   "source": [
    "## Standardisation des données\n",
    "Dans l’analyse en composantes principales, les variables sont souvent normalisées. Ceci est particulièrement recommandé lorsque les variables sont mesurées dans différentes unités (par exemple: kilogrammes, kilomètres, centlitres, ... ); sinon, le résultat de l’ACP obtenue sera fortement affecté.  \n",
    "\n",
    "L’objectif est de rendre les variables comparables. Généralement, les variables sont normalisées de manière à ce qu’elles aient au final :  \n",
    "1. un écart type égal à un et  \n",
    "2. une moyenne égale à zéro.  \n",
    "\n",
    "Techniquement, l’approche consiste à transformer les données en soustrayant à chaque valeur une valeur de référence (la moyenne de la variable) et en la divisant par l’écart type. A l’issue de cette transformation les données obtenues sont dites données centrées-réduites. L’ACP appliquée à ces données transformées est appelée ACP normée.  \n",
    "\n",
    "La standardisation des données est une approche beaucoup utilisée dans le contexte de l’analyse des données d’expression de gènes avant les analyses de type PCA et de clustering.  \n",
    "  \n",
    "Lors de la normalisation des variables, les données peuvent être transformées comme suit: $$z_{ij}=\\frac{x_{ij}-mean(x_{j})}{sd(x_{j})}$$\n",
    "Où $mean(x_{j})=\\bar{x}_{j}=\\frac{1}{n}\\sum^{n}_{i=1}x_{ij}$ est la moyenne des valeurs de la variable $x_{j}$, et $sd(x_j)=\\sqrt{\\frac{1}{n}\\sum_{i=1}^{n}(x_{ij}-\\bar{x}_{j})^{2}}$ est l’écart type (SD). \n",
    "\n",
    "Nous utilisons la classe _**StandardScaler**_ pour normaliser les données.  \n",
    "\n",
    "**Avant cela nous allons exclure les variables qualitatives et convertir les variables quantitatives en float.**"
   ]
  },
  {
   "cell_type": "code",
   "execution_count": 6,
   "metadata": {},
   "outputs": [
    {
     "name": "stdout",
     "output_type": "stream",
     "text": [
      "Après conversion\n",
      " BigMac        float32\n",
      "Bread         float32\n",
      "Rice          float32\n",
      "FoodIndex     float32\n",
      "Bus           float32\n",
      "Apt           float32\n",
      "TeachGI       float32\n",
      "TeachNI       float32\n",
      "TaxRate       float32\n",
      "TeachHours    float32\n",
      "dtype: object \n",
      "\n",
      "Après cast de float32 à float64\n",
      " BigMac        float64\n",
      "Bread         float64\n",
      "Rice          float64\n",
      "FoodIndex     float64\n",
      "Bus           float64\n",
      "Apt           float64\n",
      "TeachGI       float64\n",
      "TeachNI       float64\n",
      "TaxRate       float64\n",
      "TeachHours    float64\n",
      "dtype: object \n",
      "\n"
     ]
    }
   ],
   "source": [
    "X = mcdo\n",
    "X.index = X[\"City\"]\n",
    "X = X.drop(columns=\"City\")\n",
    "\n",
    "# Conversion des variables en float\n",
    "# Les variables seront converties en float32\n",
    "X = X.apply(pd.to_numeric,downcast='float',errors='ignore')\n",
    "print(\"Après conversion\\n\",X.dtypes,\"\\n\")\n",
    "# Cast des variables en float32 vers float64\n",
    "X = X.astype(dtype='float64')\n",
    "print(\"Après cast de float32 à float64\\n\",X.dtypes,\"\\n\")"
   ]
  },
  {
   "cell_type": "code",
   "execution_count": 7,
   "metadata": {},
   "outputs": [
    {
     "name": "stdout",
     "output_type": "stream",
     "text": [
      "[[-0.68207322 -0.88131513 -0.72341839  0.16264271  1.2057545   0.38406452\n",
      "   0.68604599  0.33789732  1.83444462  0.30703546]\n",
      " [-0.52177672 -0.71161073 -0.06228105  0.06430887 -0.54218857 -0.20483441\n",
      "  -0.09023121  0.00871187 -0.29548179 -1.05100599]\n",
      " [-0.58589532 -0.31563379 -0.72341839 -0.26756755  0.66502397  0.14414273\n",
      "   0.0408967   0.02302434  0.52205446  0.4428396 ]\n",
      " [ 0.40794297  0.98543329  0.33440135 -0.6363192  -0.71824041 -1.295388\n",
      "  -0.89273403 -0.84287647 -1.63571431 -0.23618112]\n",
      " [-0.48971742 -0.31563379 -0.65730466  0.03972549 -0.16493465 -0.27026763\n",
      "   0.22447578  0.30927253 -0.0298732   0.30703546]]\n"
     ]
    }
   ],
   "source": [
    "#classe pour standardisation\n",
    "from sklearn.preprocessing import StandardScaler\n",
    "\n",
    "#instanciation\n",
    "sc = StandardScaler()\n",
    "\n",
    "#Avant normalisation on convertit toutes la variables float\n",
    "\n",
    "#transformation - centrage-réducation\n",
    "z = sc.fit_transform(X)\n",
    "print(z[0:5])"
   ]
  },
  {
   "cell_type": "markdown",
   "metadata": {},
   "source": [
    "Examinons de nouveau les données en regardant les moyennes et les écarts-types."
   ]
  },
  {
   "cell_type": "code",
   "execution_count": 8,
   "metadata": {},
   "outputs": [
    {
     "name": "stdout",
     "output_type": "stream",
     "text": [
      "Moyennes des variables\n",
      "[ 4.06277266e-17  6.99923211e-17 -1.12631321e-17 -1.12631321e-16\n",
      " -4.82705663e-18 -2.57443020e-17 -3.05713586e-17  1.44811699e-17\n",
      " -1.54465812e-16 -7.40148683e-17]\n",
      "\n",
      "Écart-types des variables\n",
      "[1. 1. 1. 1. 1. 1. 1. 1. 1. 1.]\n"
     ]
    }
   ],
   "source": [
    "print(\"Moyennes des variables\")\n",
    "print(np.mean(z, axis=0))\n",
    "print(\"\\nÉcart-types des variables\")\n",
    "print(np.std(z, axis=0, ddof=0))"
   ]
  },
  {
   "cell_type": "markdown",
   "metadata": {},
   "source": [
    "## PCA de scikit-learn"
   ]
  },
  {
   "cell_type": "code",
   "execution_count": 9,
   "metadata": {},
   "outputs": [
    {
     "name": "stdout",
     "output_type": "stream",
     "text": [
      "PCA(copy=True, iterated_power='auto', n_components=None, random_state=None,\n",
      "  svd_solver='full', tol=0.0, whiten=False)\n"
     ]
    }
   ],
   "source": [
    "#classe pour l'ACP\n",
    "from sklearn.decomposition import PCA\n",
    "\n",
    "#instanciation\n",
    "acp = PCA(svd_solver = 'full')\n",
    "\n",
    "#affichage des paramètres\n",
    "print(acp)"
   ]
  },
  {
   "cell_type": "markdown",
   "metadata": {},
   "source": [
    "Le paramètre ***(svd_solver = ‘full’)*** indique l’algorithme utilisé pour la décomposition en\n",
    "valeurs singulières. Nous choisissons la méthode ‘’exacte’’, sélectionnée de toute manière par\n",
    "défaut pour l’appréhension des bases de taille réduite.  \n",
    "\n",
    "D’autres approches sont disponibles\n",
    "pour le traitement des grands ensembles de données. Le nombre de composantes (K) n’étant\n",
    "pas spécifié (n_components = None), il est par défaut égal au nombre de variables (K = p).  \n",
    "Nous pouvons lancer les traitements dans un second temps. La fonction ***fit_transform()***\n",
    "renvoie en sortie les coordonnées factorielles $F_{ik}$ que nous collectons dans la variable coord. Nous affichons le nombre de composantes générées (K), il est bien égal à p = 10."
   ]
  },
  {
   "cell_type": "code",
   "execution_count": 10,
   "metadata": {},
   "outputs": [
    {
     "name": "stdout",
     "output_type": "stream",
     "text": [
      "10\n"
     ]
    }
   ],
   "source": [
    "#calculs\n",
    "coord = acp.fit_transform(z)\n",
    "\n",
    "#nombre de composantes calculées\n",
    "print(acp.n_components_)"
   ]
  },
  {
   "cell_type": "markdown",
   "metadata": {},
   "source": [
    "### Valeurs propres et scree plot"
   ]
  },
  {
   "cell_type": "markdown",
   "metadata": {},
   "source": [
    "La propriété **.explained_variance_** semble faire l’affaire pour obtenir les variances\n",
    "(valeurs propres, $λ_{k}$) associées aux axes factoriels."
   ]
  },
  {
   "cell_type": "code",
   "execution_count": 11,
   "metadata": {},
   "outputs": [
    {
     "name": "stdout",
     "output_type": "stream",
     "text": [
      "[5.43783801e+00 1.33855617e+00 8.34946366e-01 8.01252999e-01\n",
      " 5.30237340e-01 4.66594603e-01 3.38215247e-01 2.69523580e-01\n",
      " 1.26125397e-01 3.76910852e-03]\n"
     ]
    }
   ],
   "source": [
    "#variance expliquée\n",
    "print(acp.explained_variance_)"
   ]
  },
  {
   "cell_type": "markdown",
   "metadata": {},
   "source": [
    "On ne retrouve pas les même valeurs que sous **R**, il faut appliquer une petite correction."
   ]
  },
  {
   "cell_type": "code",
   "execution_count": 12,
   "metadata": {},
   "outputs": [
    {
     "name": "stdout",
     "output_type": "stream",
     "text": [
      "[5.35902876e+00 1.31915681e+00 8.22845694e-01 7.89640636e-01\n",
      " 5.22552741e-01 4.59832362e-01 3.33313577e-01 2.65617441e-01\n",
      " 1.24297492e-01 3.71448376e-03]\n"
     ]
    }
   ],
   "source": [
    "#valeur corrigée\n",
    "eigval = (n-1)/n*acp.explained_variance_\n",
    "print(eigval)"
   ]
  },
  {
   "cell_type": "markdown",
   "metadata": {},
   "source": [
    "On aurait pu obtenir directement les bonnes valeurs propres en passant par les valeurs singulières **.singular_values_** issues de la factorisation de la matrice des données centrées et réduites"
   ]
  },
  {
   "cell_type": "code",
   "execution_count": 13,
   "metadata": {},
   "outputs": [
    {
     "name": "stdout",
     "output_type": "stream",
     "text": [
      "[5.35902876e+00 1.31915681e+00 8.22845694e-01 7.89640636e-01\n",
      " 5.22552741e-01 4.59832362e-01 3.33313577e-01 2.65617441e-01\n",
      " 1.24297492e-01 3.71448376e-03]\n"
     ]
    }
   ],
   "source": [
    "#ou bien en passant par les valeurs singulières\n",
    "print(acp.singular_values_**2/n)"
   ]
  },
  {
   "cell_type": "markdown",
   "metadata": {},
   "source": [
    "PCA fournit également les proportions de variance associées aux axes. Il n’est pas nécessaire\n",
    "d’effectuer une correction dans ce cas."
   ]
  },
  {
   "cell_type": "code",
   "execution_count": 14,
   "metadata": {},
   "outputs": [
    {
     "name": "stdout",
     "output_type": "stream",
     "text": [
      "proportion de variance expliquée\n",
      " [5.35902876e-01 1.31915681e-01 8.22845694e-02 7.89640636e-02\n",
      " 5.22552741e-02 4.59832362e-02 3.33313577e-02 2.65617441e-02\n",
      " 1.24297492e-02 3.71448376e-04]\n",
      "\n",
      "% de variances expliquer par les 5 premières variables\n",
      "0.8813224643880584\n"
     ]
    }
   ],
   "source": [
    "#proportion de variance expliquée\n",
    "print(\"proportion de variance expliquée\\n\",acp.explained_variance_ratio_)\n",
    "print(\"\\n% de variances expliquer par les 5 premières variables\")\n",
    "print(acp.explained_variance_ratio_[0]+acp.explained_variance_ratio_[1]\\\n",
    "      +acp.explained_variance_ratio_[2]+acp.explained_variance_ratio_[3]\\\n",
    "      +acp.explained_variance_ratio_[4])"
   ]
  },
  {
   "cell_type": "markdown",
   "metadata": {},
   "source": [
    "La première composante accapare 53.60% de l’information disponible. Les 5 premières variables (**BigMac, Bread, Rice, FoodIndex, Bus**).  \n",
    "Nous disposons des éléments permettant de construire le graphique \"Scree plot\" (éboulis des valeurs propres) (Figure 2)."
   ]
  },
  {
   "cell_type": "code",
   "execution_count": 15,
   "metadata": {},
   "outputs": [
    {
     "data": {
      "image/png": "[encoded data removed]",
      "text/plain": [
       "<Figure size 432x288 with 1 Axes>"
      ]
     },
     "metadata": {
      "needs_background": "light"
     },
     "output_type": "display_data"
    }
   ],
   "source": [
    "#scree plot\n",
    "plt.plot(np.arange(1,p+1),eigval)\n",
    "plt.title(\"Figure 2 - Scree plot\")\n",
    "plt.ylabel(\"Eigen values\")\n",
    "plt.xlabel(\"Factor number\")\n",
    "plt.show()"
   ]
  },
  {
   "cell_type": "markdown",
   "metadata": {},
   "source": [
    "Le graphique du cumul de variance restituée selon le nombre de facteurs peut être\n",
    "intéressant également (Figure 3)."
   ]
  },
  {
   "cell_type": "code",
   "execution_count": 16,
   "metadata": {},
   "outputs": [
    {
     "data": {
      "image/png": "[encoded data removed]",
      "text/plain": [
       "<Figure size 432x288 with 1 Axes>"
      ]
     },
     "metadata": {
      "needs_background": "light"
     },
     "output_type": "display_data"
    }
   ],
   "source": [
    "#cumul de variance expliquée\n",
    "plt.plot(np.arange(1,p+1),np.cumsum(acp.explained_variance_ratio_))\n",
    "plt.title(\"Figure 3 - Explained variance vs. # of factors\")\n",
    "plt.ylabel(\"Cumsum explained variance ratio\")\n",
    "plt.xlabel(\"Factor number\")\n",
    "plt.show()"
   ]
  },
  {
   "cell_type": "markdown",
   "metadata": {},
   "source": [
    "### Détermination du nombre de facteur  à retenir\n",
    "Les \"cassures\" dans les graphiques ci-dessus (Figure 2, Figure 3) sont souvent évoquées\n",
    "(règle du coude) pour identifier le nombre de facteurs K* à retenir. La solution (K* = 2)\n",
    "semble s’imposer ici.  \n",
    "\n",
    "D’autres pistes existent pour répondre à cette question toujours délicate qui conditionne\n",
    "l’interprétation de l’ACP, notamment le « test des bâtons brisés » de Legendre & Legendre(1983).  \n",
    "Les seuils sont définis par : $$b_{k}=\\sum^{p}_{m=k}\\frac{1}{m}$$\n",
    "Le facteur n°k est validé si $(λ_{k}>b_{k})$, où $λ_{k}$ est la valeur propre associée à l’axe n°k.  \n",
    "\n",
    "Calculons ces seuils : "
   ]
  },
  {
   "cell_type": "code",
   "execution_count": 17,
   "metadata": {},
   "outputs": [],
   "source": [
    "#seuils pour test des bâtons brisés\n",
    "bs = 1/np.arange(p,0,-1)\n",
    "bs = np.cumsum(bs)\n",
    "bs = bs[::-1]"
   ]
  },
  {
   "cell_type": "markdown",
   "metadata": {},
   "source": [
    "Puis affichons conjointement les valeurs propres et les seuils :"
   ]
  },
  {
   "cell_type": "code",
   "execution_count": 18,
   "metadata": {},
   "outputs": [
    {
     "name": "stdout",
     "output_type": "stream",
     "text": [
      "   Val.Propre    Seuils\n",
      "0    5.359029  2.928968\n",
      "1    1.319157  1.928968\n",
      "2    0.822846  1.428968\n",
      "3    0.789641  1.095635\n",
      "4    0.522553  0.845635\n",
      "5    0.459832  0.645635\n",
      "6    0.333314  0.478968\n",
      "7    0.265617  0.336111\n",
      "8    0.124297  0.211111\n",
      "9    0.003714  0.100000\n"
     ]
    }
   ],
   "source": [
    "#test des bâtons brisés\n",
    "print(pd.DataFrame({'Val.Propre':eigval,'Seuils':bs}))"
   ]
  },
  {
   "cell_type": "markdown",
   "metadata": {},
   "source": [
    "Avec cette procédure, seul le premier facteur est valide. Le cercle des corrélations que nous\n",
    "construirons par la suite (Figure 5) semble aller dans le même sens.  \n",
    "\n",
    "Néanmoins, par commodité (pas seulement en réalité, cette étude est plus subtile qu’elle n’en a l’air, nous choisissons K* = 2 pour pouvoir représenter les individus et les\n",
    "variables dans le plan.\n",
    "\n",
    "### Représentation des individus – Outils pour l’interprétation\n",
    "Coordonnées factorielles. Les coordonnées factorielles ($F_{ik}$) des individus ont été\n",
    "collectées dans la variable **coord** (Section 3.3.1). Nous les positionnons dans le premier plan factoriel avec leurs labels pour situer et comprendre les proximités entre les véhicules.  \n",
    "\n",
    "\n",
    "Je ferai deux commentaires au préalable :  \n",
    "\n",
    "1. L’ajout d’une étiquette dans un graphique nuage de points n’est pas très pratique sous Python (librairie Matplotlib), ma solution a le mérite de fonctionner, je ne sais pas s’il y a plus simple (j’ai cherché pourtant).\n",
    "\n",
    "\n",
    "2. Les outils graphiques calculent souvent automatiquement les échelles en fonction des plages de valeurs. Ce n’est pas une bonne idée en ce qui concerne l’ACP. En effet, les axes n’ont pas la même importance (% de variance restituée). Pour ne pas fausser la perception des proximités, il est très important de veiller à ce que les échelles soient identiques en abscisse et en ordonnée. Respecter cette règle nous dispense de faire afficher les pourcentages de variance portés par les axes. Nous nous rendons compte directement dans notre graphique que les dispersions des individus sont nettement plus marquées sur le premier axe, en abscisse (Figure 4)."
   ]
  },
  {
   "cell_type": "code",
   "execution_count": 19,
   "metadata": {},
   "outputs": [
    {
     "data": {
      "image/png": "[encoded data removed]",
      "text/plain": [
       "<Figure size 864x864 with 1 Axes>"
      ]
     },
     "metadata": {
      "needs_background": "light"
     },
     "output_type": "display_data"
    }
   ],
   "source": [
    "#positionnement des individus dans le premier plan\n",
    "fig, axes = plt.subplots(figsize=(12,12))\n",
    "axes.set_xlim(-6,6) #même limites en abscisse\n",
    "axes.set_ylim(-6,6) #et en ordonnée\n",
    "\n",
    "#placement des étiquettes des observations\n",
    "for i in range(n):\n",
    "    plt.annotate(X.index[i],(coord[i,0],coord[i,1]))\n",
    "    \n",
    "#ajouter les axes\n",
    "plt.plot([-6,6],[0,0],color='silver',linestyle='-',linewidth=1)\n",
    "plt.plot([0,0],[-6,6],color='silver',linestyle='-',linewidth=1)\n",
    "# ajout du titre\n",
    "plt.title(\"Figure 4 - Représentation des individus dans le premier plan factoriel\")\n",
    "#affichage\n",
    "plt.show()"
   ]
  },
  {
   "cell_type": "markdown",
   "metadata": {},
   "source": [
    "#### Qualité de représentation – Les ${\\cos^{2}}$ (cosinus carré). \n",
    "Pour calculer la qualité de représentation des individus sur les axes, nous devons d’abord calculer les carrés des distances à l’origine des individus, qui correspondent également à leur contribution dans l’inertie totale. $$d^{2}_{i}=\\sum^{p}_{j=1}z^{2}_{ij}$$"
   ]
  },
  {
   "cell_type": "code",
   "execution_count": 20,
   "metadata": {},
   "outputs": [
    {
     "name": "stdout",
     "output_type": "stream",
     "text": [
      "                   ID        d_i\n",
      "0           Amsterdam   7.437368\n",
      "1              Athens   2.322722\n",
      "2            Auckland   1.971709\n",
      "3             Bangkok   8.086880\n",
      "4           Barcelona   1.114525\n",
      "5               Basel  25.646006\n",
      "6              Berlin   7.821026\n",
      "7              Bogota  12.971844\n",
      "8          Bratislava   4.890904\n",
      "9            Brussels   7.898610\n",
      "10          Bucharest  11.179346\n",
      "11           Budapest   4.160065\n",
      "12       Buenos_Aries  11.916827\n",
      "13            Caracas  21.154843\n",
      "14            Chicago  10.854057\n",
      "15         Copenhagen  10.618668\n",
      "16              Dubai   7.609229\n",
      "17             Dublin   6.413068\n",
      "18          Frankfurt  13.923234\n",
      "19             Geneva  26.092601\n",
      "20           Helsinki   3.943845\n",
      "21          Hong_Kong  19.176009\n",
      "22           Istanbul   2.241653\n",
      "23            Jakarta   6.347321\n",
      "24       Johannesburg   3.006511\n",
      "25            Karachi  24.218974\n",
      "26               Kiev   9.964277\n",
      "27       Kuala_Lumpur   5.247486\n",
      "28              Lagos  22.221993\n",
      "29               Lima  15.077863\n",
      "..                ...        ...\n",
      "39        Mexico_City   8.300815\n",
      "40              Miami   3.635658\n",
      "41              Milan   8.975678\n",
      "42           Montreal   2.956762\n",
      "43             Moscow   6.822257\n",
      "44             Mumbai  39.103890\n",
      "45            Nairobi  39.814171\n",
      "46           New_York  16.909480\n",
      "47               Oslo  16.868892\n",
      "48              Paris   3.846811\n",
      "49             Prague   5.017557\n",
      "50               Riga   5.883199\n",
      "51     Rio_De_Janeiro  15.149402\n",
      "52               Rome   6.825944\n",
      "53  Santiago_De_Chile   6.279323\n",
      "54          Sao_Paulo  11.698074\n",
      "55              Seoul  13.196467\n",
      "56            Shanghi  16.687178\n",
      "57          Singapore   2.293197\n",
      "58              Sofia   6.186276\n",
      "59          Stockholm   9.057696\n",
      "60             Sydney   2.563399\n",
      "61             Taipei   6.975777\n",
      "62            Tallinn   7.663470\n",
      "63           Tel_Aviv   2.014329\n",
      "64              Tokyo  16.755962\n",
      "65            Toronto   5.311742\n",
      "66             Vienna   4.059275\n",
      "67            Vilnius   6.477402\n",
      "68             Warsaw   7.648928\n",
      "\n",
      "[69 rows x 2 columns]\n"
     ]
    }
   ],
   "source": [
    "#contribution des individus dans l'inertie totale\n",
    "di = np.sum(z**2,axis=1)\n",
    "print(pd.DataFrame({'ID':X.index,'d_i':di}))"
   ]
  },
  {
   "cell_type": "markdown",
   "metadata": {},
   "source": [
    "Nous pouvons alors déduire la qualité de représentation des individus sur l’axe n°k avec :\n",
    "$$\\cos^{2}_{ik}=\\frac{F^{2}_{ik}}{d_{i}^{2}}$$"
   ]
  },
  {
   "cell_type": "code",
   "execution_count": 21,
   "metadata": {},
   "outputs": [
    {
     "name": "stdout",
     "output_type": "stream",
     "text": [
      "                   id    COS2_1    COS2_2\n",
      "0           Amsterdam  0.625761  0.116406\n",
      "1              Athens  0.000332  0.255047\n",
      "2            Auckland  0.368735  0.081200\n",
      "3             Bangkok  0.778829  0.007249\n",
      "4           Barcelona  0.252413  0.000041\n",
      "5               Basel  0.781904  0.006372\n",
      "6              Berlin  0.632467  0.102443\n",
      "7              Bogota  0.729809  0.050885\n",
      "8          Bratislava  0.740107  0.002784\n",
      "9            Brussels  0.280066  0.565424\n",
      "10          Bucharest  0.643276  0.128747\n",
      "11           Budapest  0.234881  0.080571\n",
      "12       Buenos_Aries  0.588784  0.251607\n",
      "13            Caracas  0.510472  0.000068\n",
      "14            Chicago  0.920826  0.018903\n",
      "15         Copenhagen  0.747502  0.092091\n",
      "16              Dubai  0.027973  0.274852\n",
      "17             Dublin  0.855249  0.002508\n",
      "18          Frankfurt  0.544657  0.080162\n",
      "19             Geneva  0.805899  0.077983\n",
      "20           Helsinki  0.552041  0.080763\n",
      "21          Hong_Kong  0.537774  0.285809\n",
      "22           Istanbul  0.312493  0.000366\n",
      "23            Jakarta  0.419544  0.052298\n",
      "24       Johannesburg  0.189791  0.185572\n",
      "25            Karachi  0.790430  0.067827\n",
      "26               Kiev  0.712263  0.021931\n",
      "27       Kuala_Lumpur  0.115948  0.047524\n",
      "28              Lagos  0.523335  0.134446\n",
      "29               Lima  0.567245  0.184883\n",
      "..                ...       ...       ...\n",
      "39        Mexico_City  0.614388  0.009866\n",
      "40              Miami  0.375753  0.034395\n",
      "41              Milan  0.159668  0.212613\n",
      "42           Montreal  0.376238  0.329661\n",
      "43             Moscow  0.361426  0.000004\n",
      "44             Mumbai  0.574480  0.026115\n",
      "45            Nairobi  0.540413  0.101459\n",
      "46           New_York  0.797172  0.042703\n",
      "47               Oslo  0.606900  0.000005\n",
      "48              Paris  0.580457  0.045612\n",
      "49             Prague  0.389420  0.008221\n",
      "50               Riga  0.612808  0.008410\n",
      "51     Rio_De_Janeiro  0.495891  0.115847\n",
      "52               Rome  0.050450  0.304056\n",
      "53  Santiago_De_Chile  0.562260  0.116361\n",
      "54          Sao_Paulo  0.414876  0.220242\n",
      "55              Seoul  0.017170  0.692968\n",
      "56            Shanghi  0.284497  0.035600\n",
      "57          Singapore  0.167627  0.304142\n",
      "58              Sofia  0.615453  0.016605\n",
      "59          Stockholm  0.510551  0.030713\n",
      "60             Sydney  0.644016  0.088980\n",
      "61             Taipei  0.167920  0.269015\n",
      "62            Tallinn  0.367274  0.511736\n",
      "63           Tel_Aviv  0.016235  0.212087\n",
      "64              Tokyo  0.508242  0.393910\n",
      "65            Toronto  0.325046  0.032823\n",
      "66             Vienna  0.838055  0.054469\n",
      "67            Vilnius  0.561867  0.267623\n",
      "68             Warsaw  0.133296  0.747090\n",
      "\n",
      "[69 rows x 3 columns]\n"
     ]
    }
   ],
   "source": [
    "#qualité de représentation des individus - COS2\n",
    "cos2 = coord**2\n",
    "for j in range(p-1):\n",
    "    cos2[:,j] = cos2[:,j]/di\n",
    "print(pd.DataFrame({'id':X.index,'COS2_1':cos2[:,0],'COS2_2':cos2[:,1]}))"
   ]
  },
  {
   "cell_type": "markdown",
   "metadata": {},
   "source": [
    "Les $\\cos^{2}$ pour les deux premiers facteurs sont affichés. Conformément à la théorie, pour chaque individu, la somme des $\\cos^{2}$ sur l’ensemble des facteurs est égale à 1. \n",
    "$$\\sum^{p}_{k=1}\\cos^{2}_{ik}=1$$"
   ]
  },
  {
   "cell_type": "code",
   "execution_count": 22,
   "metadata": {},
   "outputs": [
    {
     "name": "stdout",
     "output_type": "stream",
     "text": [
      "[1.00862165 1.00010389 1.00082883 1.00420275 1.00015746 1.00082652\n",
      " 1.01048173 1.00061373 1.00008257 1.0058893  1.00158729 1.00258806\n",
      " 1.00010425 1.00001702 1.00000011 1.03455486 1.00856204 1.00000061\n",
      " 1.00268074 1.00995211 1.00015307 1.01728649 1.00006198 1.00381699\n",
      " 1.00041678 1.00001535 1.00001547 1.0000803  1.00718154 1.01368063\n",
      " 1.00152992 1.00045504 1.00013069 1.00094277 1.00088443 1.01015249\n",
      " 1.00066833 1.00127526 1.00013321 1.00052753 1.00145955 1.00002206\n",
      " 1.00018569 1.01172715 1.00000733 1.00221762 1.01909298 1.00129232\n",
      " 1.00011742 1.00039026 1.00123461 1.00208894 1.00000032 1.00031982\n",
      " 1.00146624 1.00003797 1.00145182 1.00026163 1.0001831  1.0005775\n",
      " 1.00021535 1.00001638 1.0062769  1.00021955 1.008286   1.00000199\n",
      " 1.000307   1.0054141  1.00928747]\n"
     ]
    }
   ],
   "source": [
    "#vérifions la théorie - somme en ligne des cos2 = 1\n",
    "print(np.sum(cos2,axis=1))"
   ]
  },
  {
   "cell_type": "markdown",
   "metadata": {},
   "source": [
    "#### Contribution des individus aux axes (CTR). \n",
    "Elles permettent de déterminer les individus qui pèsent le plus dans la définition de chaque facteur. $$CTR_{ik}=\\frac{F^{2}_{ik}}{n\\times\\lambda_{k}}$$"
   ]
  },
  {
   "cell_type": "code",
   "execution_count": 24,
   "metadata": {},
   "outputs": [
    {
     "name": "stdout",
     "output_type": "stream",
     "text": [
      "                   id     CTR_1         CTR_2\n",
      "0           Amsterdam  0.012586  9.511513e-03\n",
      "1              Athens  0.000002  6.508360e-03\n",
      "2            Auckland  0.001966  1.758944e-03\n",
      "3             Bangkok  0.017033  6.440751e-04\n",
      "4           Barcelona  0.000761  5.025930e-07\n",
      "5               Basel  0.054230  1.795310e-03\n",
      "6              Berlin  0.013377  8.802393e-03\n",
      "7              Bogota  0.025602  7.251779e-03\n",
      "8          Bratislava  0.009789  1.496050e-04\n",
      "9            Brussels  0.005982  4.906588e-02\n",
      "10          Bucharest  0.019448  1.581277e-02\n",
      "11           Budapest  0.002642  3.682435e-03\n",
      "12       Buenos_Aries  0.018975  3.294108e-02\n",
      "13            Caracas  0.029204  1.583175e-05\n",
      "14            Chicago  0.027029  2.254132e-03\n",
      "15         Copenhagen  0.021466  1.074342e-02\n",
      "16              Dubai  0.000576  2.297704e-02\n",
      "17             Dublin  0.014833  1.767112e-04\n",
      "18          Frankfurt  0.020508  1.226206e-02\n",
      "19             Geneva  0.056867  2.235497e-02\n",
      "20           Helsinki  0.005888  3.499340e-03\n",
      "21          Hong_Kong  0.027888  6.021277e-02\n",
      "22           Istanbul  0.001894  9.010031e-06\n",
      "23            Jakarta  0.007202  3.646922e-03\n",
      "24       Johannesburg  0.001543  6.129575e-03\n",
      "25            Karachi  0.051771  1.804724e-02\n",
      "26               Kiev  0.019193  2.400810e-03\n",
      "27       Kuala_Lumpur  0.001645  2.739805e-03\n",
      "28              Lagos  0.031450  3.282346e-02\n",
      "29               Lima  0.023130  3.062614e-02\n",
      "..                ...       ...           ...\n",
      "39        Mexico_City  0.013792  8.997074e-04\n",
      "40              Miami  0.003694  1.373821e-03\n",
      "41              Milan  0.003876  2.096585e-02\n",
      "42           Montreal  0.003008  1.070876e-02\n",
      "43             Moscow  0.006668  2.768831e-07\n",
      "44             Mumbai  0.060752  1.121914e-02\n",
      "45            Nairobi  0.058187  4.437965e-02\n",
      "46           New_York  0.036454  7.933024e-03\n",
      "47               Oslo  0.027687  9.815169e-07\n",
      "48              Paris  0.006039  1.927669e-03\n",
      "49             Prague  0.005284  4.531599e-04\n",
      "50               Riga  0.009750  5.435504e-04\n",
      "51     Rio_De_Janeiro  0.020316  1.928126e-02\n",
      "52               Rome  0.000931  2.280186e-02\n",
      "53  Santiago_De_Chile  0.009548  8.027423e-03\n",
      "54          Sao_Paulo  0.013125  2.830541e-02\n",
      "55              Seoul  0.000613  1.004675e-01\n",
      "56            Shanghi  0.012839  6.526529e-03\n",
      "57          Singapore  0.001040  7.662536e-03\n",
      "58              Sofia  0.010296  1.128554e-03\n",
      "59          Stockholm  0.012506  3.056303e-03\n",
      "60             Sydney  0.004465  2.505898e-03\n",
      "61             Taipei  0.003168  2.061693e-02\n",
      "62            Tallinn  0.007612  4.308498e-02\n",
      "63           Tel_Aviv  0.000088  4.693525e-03\n",
      "64              Tokyo  0.023031  7.251385e-02\n",
      "65            Toronto  0.004669  1.915420e-03\n",
      "66             Vienna  0.009200  2.429128e-03\n",
      "67            Vilnius  0.009842  1.904491e-02\n",
      "68             Warsaw  0.002757  6.278096e-02\n",
      "\n",
      "[69 rows x 3 columns]\n"
     ]
    }
   ],
   "source": [
    "#contributions aux axes\n",
    "ctr = coord**2\n",
    "for j in range(p):\n",
    "    ctr[:,j] = ctr[:,j]/(n*eigval[j])\n",
    "print(pd.DataFrame({'id':X.index,'CTR_1':ctr[:,0],'CTR_2':ctr[:,1]}))"
   ]
  },
  {
   "cell_type": "markdown",
   "metadata": {},
   "source": [
    "On voit que Geneva, Basel, Nairobi sont relativement déterminants pour le premier axe; pour le second Brussels, Hong Kong et Warsaw.  \n",
    "\n",
    "Les sommes en ligne sont égales à l’unité ici :\n",
    "$$\\sum^{n}_{i=1}CTR_{ik}=1$$"
   ]
  },
  {
   "cell_type": "code",
   "execution_count": 25,
   "metadata": {},
   "outputs": [
    {
     "name": "stdout",
     "output_type": "stream",
     "text": [
      "[1. 1. 1. 1. 1. 1. 1. 1. 1. 1.]\n"
     ]
    }
   ],
   "source": [
    "#vérifions la théorie\n",
    "print(np.sum(ctr,axis=0))"
   ]
  },
  {
   "cell_type": "markdown",
   "metadata": {},
   "source": [
    "### Représentation des variables – Outils pour l’aide à l’interprétation\n",
    "Nous avons besoin des vecteurs propres pour l’analyse des variables. Ils sont fournis par le\n",
    "champ **.components_**"
   ]
  },
  {
   "cell_type": "code",
   "execution_count": 26,
   "metadata": {},
   "outputs": [
    {
     "name": "stdout",
     "output_type": "stream",
     "text": [
      "[[ 3.46674765e-01  2.90131511e-01  2.83299743e-01 -3.42929401e-01\n",
      "  -3.39122374e-01 -3.32207857e-01 -3.97749168e-01 -3.90091415e-01\n",
      "  -2.45810922e-01 -4.02023478e-02]\n",
      " [ 1.65523187e-01  1.83728995e-01  2.34471434e-01  3.51848517e-01\n",
      "  -1.37561241e-01  2.00615246e-01  1.16642957e-01  1.80729313e-01\n",
      "  -4.38443838e-01  6.80000194e-01]\n",
      " [ 3.58752181e-01  2.23953095e-01  6.50239050e-01  1.96355081e-01\n",
      "   2.83001889e-01 -4.56090819e-02  1.88254584e-01  1.31834183e-01\n",
      "   4.34260879e-01 -1.90270690e-01]\n",
      " [-6.60964122e-02  5.34580824e-01 -1.37583507e-01  2.79723780e-01\n",
      "  -1.89275681e-01  2.31053469e-01  9.53632354e-02  1.45116847e-01\n",
      "  -3.46916311e-01 -6.10708630e-01]\n",
      " [-2.78076240e-01  6.42171366e-01 -2.83040849e-01  1.88082962e-01\n",
      "   2.35597214e-01 -2.38592230e-01 -1.66771070e-01 -2.14081845e-01\n",
      "   3.33039982e-01  3.12746964e-01]\n",
      " [-1.50716727e-01 -5.19290113e-02  1.77688996e-01  1.55709750e-01\n",
      "  -3.69362989e-01  6.56646888e-01 -3.11857321e-01 -3.38012023e-01\n",
      "   3.72909838e-01  2.42058654e-02]\n",
      " [ 4.60100901e-01  5.96291553e-02 -2.45865707e-01 -1.53576186e-01\n",
      "   6.12082169e-01  4.62415375e-01 -1.86569686e-01 -2.11925128e-01\n",
      "  -1.80287694e-01 -4.38328078e-03]\n",
      " [-5.21293087e-01 -1.61558890e-01  4.35487669e-01  2.08040523e-01\n",
      "   4.22015643e-01 -7.90527591e-02 -2.71168415e-01 -2.17187748e-01\n",
      "  -3.85995000e-01 -1.23208625e-01]\n",
      " [-3.68128123e-01  3.18198687e-01  2.47406719e-01 -7.17345700e-01\n",
      "   7.03876198e-02  2.92801583e-01  2.12706040e-01  1.94421325e-01\n",
      "  -2.20538870e-02  1.14975099e-01]\n",
      " [-1.86347620e-02 -1.21538589e-02  5.41461266e-03  2.70046678e-02\n",
      "  -2.29412507e-02 -2.02405750e-03  7.10636398e-01 -6.97682492e-01\n",
      "  -8.03181794e-02 -3.19789090e-04]]\n"
     ]
    }
   ],
   "source": [
    "#le champ components_ de l'objet ACP\n",
    "print(acp.components_)"
   ]
  },
  {
   "cell_type": "markdown",
   "metadata": {},
   "source": [
    "**Attention, par rapport à R, les facteurs sont en ligne, les variables en colonne**.  \n",
    "Nous devons en tenir compte pour obtenir les corrélations (variables $x$ facteurs, $r_{jk}$)\n",
    "en les multipliant par la racine carrée des valeurs propres :"
   ]
  },
  {
   "cell_type": "code",
   "execution_count": 30,
   "metadata": {},
   "outputs": [
    {
     "name": "stdout",
     "output_type": "stream",
     "text": [
      "[[ 8.02537388e-01  1.90110915e-01  3.25427126e-01 -5.87344128e-02\n",
      "  -2.01015223e-01 -1.02202430e-01  2.65631507e-01 -2.68664484e-01\n",
      "  -1.29786697e-01 -1.13572473e-03]\n",
      " [ 6.71642151e-01  2.11021114e-01  2.03149739e-01  4.75037747e-01\n",
      "   4.64211614e-01 -3.52135509e-02  3.44258887e-02 -8.32643612e-02\n",
      "   1.12183650e-01 -7.40735951e-04]\n",
      " [ 6.55826897e-01  2.69301115e-01  5.89837320e-01 -1.22259079e-01\n",
      "  -2.04604030e-01  1.20492579e-01 -1.41946425e-01  2.24442013e-01\n",
      "   8.72253405e-02  3.30002041e-04]\n",
      " [-7.93867028e-01  4.04114037e-01  1.78115348e-01  2.48567379e-01\n",
      "   1.35961053e-01  1.05588246e-01 -8.86646246e-02  1.07220106e-01\n",
      "  -2.52906320e-01  1.64584174e-03]\n",
      " [-7.85053923e-01 -1.57995347e-01  2.56713398e-01 -1.68193637e-01\n",
      "   1.70308065e-01 -2.50468516e-01  3.53375332e-01  2.17498789e-01\n",
      "   2.48157533e-02 -1.39819042e-03]\n",
      " [-7.69047109e-01  2.30415742e-01 -4.13723824e-02  2.05318101e-01\n",
      "  -1.72473097e-01  4.45278429e-01  2.66967730e-01 -4.07422797e-02\n",
      "   1.03229685e-01 -1.23359352e-04]\n",
      " [-9.20772465e-01  1.33969745e-01  1.70767319e-01  8.47414171e-02\n",
      "  -1.20555153e-01 -2.11473382e-01 -1.07712866e-01 -1.39755013e-01\n",
      "   7.49913214e-02  4.33108473e-02]\n",
      " [-9.03045091e-01  2.07575843e-01  1.19587898e-01  1.28953335e-01\n",
      "  -1.54755076e-01 -2.29209131e-01 -1.22351403e-01 -1.11934411e-01\n",
      "   6.85448897e-02 -4.25213512e-02]\n",
      " [-5.69041866e-01 -5.03572706e-01  3.93921702e-01 -3.08275822e-01\n",
      "   2.40747308e-01  2.52873667e-01 -1.04086064e-01 -1.98934439e-01\n",
      "  -7.77528520e-03 -4.89511713e-03]\n",
      " [-9.30667313e-02  7.81011175e-01 -1.72596146e-01 -5.42686230e-01\n",
      "   2.26077930e-01  1.64142249e-02 -2.53061334e-03 -6.34993681e-02\n",
      "   4.05354478e-02 -1.94900465e-05]]\n"
     ]
    }
   ],
   "source": [
    "#racine carrée des valeurs propres\n",
    "sqrt_eigval = np.sqrt(eigval)\n",
    "\n",
    "#corrélation des variables avec les axes\n",
    "corvar = np.zeros((p,p))\n",
    "\n",
    "for k in range(p):\n",
    "    corvar[:,k] = acp.components_[k,:] * sqrt_eigval[k]\n",
    "\n",
    "#afficher la matrice des corrélations variables x facteurs\n",
    "print(corvar)"
   ]
  },
  {
   "cell_type": "markdown",
   "metadata": {},
   "source": [
    "Comme on peut le voir les variables sont maintenant en ligne, les facteurs en colonne.  \n",
    "\n",
    "Si l’on s’en tient spécifiquement aux deux premiers facteurs :"
   ]
  },
  {
   "cell_type": "code",
   "execution_count": 31,
   "metadata": {},
   "outputs": [
    {
     "name": "stdout",
     "output_type": "stream",
     "text": [
      "           id     COR_1     COR_2\n",
      "0      BigMac  0.802537  0.190111\n",
      "1       Bread  0.671642  0.211021\n",
      "2        Rice  0.655827  0.269301\n",
      "3   FoodIndex -0.793867  0.404114\n",
      "4         Bus -0.785054 -0.157995\n",
      "5         Apt -0.769047  0.230416\n",
      "6     TeachGI -0.920772  0.133970\n",
      "7     TeachNI -0.903045  0.207576\n",
      "8     TaxRate -0.569042 -0.503573\n",
      "9  TeachHours -0.093067  0.781011\n"
     ]
    }
   ],
   "source": [
    "#on affiche pour les deux premiers axes\n",
    "print(pd.DataFrame({'id':X.columns,'COR_1':corvar[:,0],'COR_2':corvar[:,1]}))"
   ]
  },
  {
   "cell_type": "markdown",
   "metadata": {},
   "source": [
    "**Les signes sont opposés par rapport à R**. Mais ce n’est pas un problème, ce sont les concomitances et oppositions qui comptent. De ce point de vue, les résultats sont complètement cohérents.  \n",
    "\n",
    "Nous pouvons dessiner maintenant le cercle des corrélations (Figure 5)."
   ]
  },
  {
   "cell_type": "code",
   "execution_count": 32,
   "metadata": {},
   "outputs": [
    {
     "data": {
      "image/png": "[encoded data removed]",
      "text/plain": [
       "<Figure size 576x576 with 1 Axes>"
      ]
     },
     "metadata": {
      "needs_background": "light"
     },
     "output_type": "display_data"
    }
   ],
   "source": [
    "#cercle des corrélations\n",
    "fig, axes = plt.subplots(figsize=(8,8))\n",
    "axes.set_xlim(-1,1)\n",
    "axes.set_ylim(-1,1)\n",
    "\n",
    "#affichage des étiquettes (noms des variables)\n",
    "for j in range(p):\n",
    "    plt.annotate(X.columns[j],(corvar[j,0],corvar[j,1]))\n",
    "\n",
    "#ajouter les axes\n",
    "plt.plot([-1,1],[0,0],color='silver',linestyle='-',linewidth=1)\n",
    "plt.plot([0,0],[-1,1],color='silver',linestyle='-',linewidth=1)\n",
    "\n",
    "#ajouter un cercle\n",
    "cercle = plt.Circle((0,0),1,color='blue',fill=False)\n",
    "axes.add_artist(cercle)\n",
    "\n",
    "#ajout d'un titre\n",
    "plt.title(\"Figure 5 - Cercle des corrélations\")\n",
    "\n",
    "#affichage\n",
    "plt.show()"
   ]
  },
  {
   "cell_type": "markdown",
   "metadata": {},
   "source": [
    "On perçoit clairement l’effet TeachGI, TeachM et BigMac sur le premier axe, TeachGI, TeachM corrélées négativement par rapport à BigMac : Les personnes cultivées consomment moins de BigMac.\n",
    "\n",
    "#### Qualité de représentation des variables ($\\cos^{2}$)\n",
    "On peut calculer la qualité de représentation des variables en montant la corrélation au carré :\n",
    "$$\\cos^{2}_{jk}=r^{jk}_{2}$$"
   ]
  },
  {
   "cell_type": "code",
   "execution_count": 33,
   "metadata": {},
   "outputs": [
    {
     "name": "stdout",
     "output_type": "stream",
     "text": [
      "           id    COS2_1    COS2_2\n",
      "0      BigMac  0.644066  0.036142\n",
      "1       Bread  0.451103  0.044530\n",
      "2        Rice  0.430109  0.072523\n",
      "3   FoodIndex  0.630225  0.163308\n",
      "4         Bus  0.616310  0.024963\n",
      "5         Apt  0.591433  0.053091\n",
      "6     TeachGI  0.847822  0.017948\n",
      "7     TeachNI  0.815490  0.043088\n",
      "8     TaxRate  0.323809  0.253585\n",
      "9  TeachHours  0.008661  0.609978\n"
     ]
    }
   ],
   "source": [
    "#cosinus carré des variables\n",
    "cos2var = corvar**2\n",
    "print(pd.DataFrame({'id':X.columns,'COS2_1':cos2var[:,0],'COS2_2':cos2var[:,1]}))"
   ]
  },
  {
   "cell_type": "markdown",
   "metadata": {},
   "source": [
    "La somme des $\\cos^{2}$ en ligne est égale à 1 (la somme des COS2 d’une variable sur l’ensemble des facteurs est égale à 1; $\\sum^{p}_{k=1}\\cos^{2}_{jk}=1$).\n",
    "\n",
    "#### Contribution des variables aux axes (CTR). \n",
    "La contribution est également basée sur le carré de la corrélation, mais relativisée par l’importance de l’axe $$CTR_{jk}=\\frac{r^{2}_{jk}}{\\lambda_{k}}$$"
   ]
  },
  {
   "cell_type": "code",
   "execution_count": 34,
   "metadata": {
    "scrolled": true
   },
   "outputs": [
    {
     "name": "stdout",
     "output_type": "stream",
     "text": [
      "           id     CTR_1     CTR_2\n",
      "0      BigMac  0.120183  0.027398\n",
      "1       Bread  0.084176  0.033756\n",
      "2        Rice  0.080259  0.054977\n",
      "3   FoodIndex  0.117601  0.123797\n",
      "4         Bus  0.115004  0.018923\n",
      "5         Apt  0.110362  0.040246\n",
      "6     TeachGI  0.158204  0.013606\n",
      "7     TeachNI  0.152171  0.032663\n",
      "8     TaxRate  0.060423  0.192233\n",
      "9  TeachHours  0.001616  0.462400\n"
     ]
    }
   ],
   "source": [
    "#contributions\n",
    "ctrvar = cos2var\n",
    "for k in range(p):\n",
    "    ctrvar[:,k] = ctrvar[:,k]/eigval[k]\n",
    "\n",
    "#on n'affiche que pour les deux premiers axes\n",
    "print(pd.DataFrame({'id':X.columns,'CTR_1':ctrvar[:,0],'CTR_2':ctrvar[:,1]}))"
   ]
  },
  {
   "cell_type": "markdown",
   "metadata": {},
   "source": [
    "Les sommes en colonnes sont égales à 1 cette fois-ci.\n",
    "\n",
    "# Traitement des individus et variables illustratifs\n",
    "## Individus supplémentaires\n",
    "Nous souhaitons positionner deux villes supplémentaires, par rapport aux villes existantes."
   ]
  }
 ],
 "metadata": {
  "kernelspec": {
   "display_name": "Python 3",
   "language": "python",
   "name": "python3"
  },
  "language_info": {
   "codemirror_mode": {
    "name": "ipython",
    "version": 3
   },
   "file_extension": ".py",
   "mimetype": "text/x-python",
   "name": "python",
   "nbconvert_exporter": "python",
   "pygments_lexer": "ipython3",
   "version": "3.6.6"
  }
 },
 "nbformat": 4,
 "nbformat_minor": 2
}

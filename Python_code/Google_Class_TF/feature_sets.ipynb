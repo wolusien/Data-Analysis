{
  "nbformat": 4,
  "nbformat_minor": 0,
  "metadata": {
    "colab": {
      "name": "feature_sets.ipynb",
      "version": "0.3.2",
      "provenance": [],
      "collapsed_sections": [
        "IGINhMIJ5Wyt",
        "pZa8miwu6_tQ",
        "copyright-notice"
      ]
    },
    "kernelspec": {
      "name": "python3",
      "display_name": "Python 3"
    },
    "accelerator": "GPU"
  },
  "cells": [
    {
      "metadata": {
        "id": "copyright-notice",
        "colab_type": "text"
      },
      "cell_type": "markdown",
      "source": [
        "#### Copyright 2017 Google LLC."
      ]
    },
    {
      "metadata": {
        "cellView": "both",
        "id": "copyright-notice2",
        "colab_type": "code",
        "colab": {}
      },
      "cell_type": "code",
      "source": [
        "# Licensed under the Apache License, Version 2.0 (the \"License\");\n",
        "# you may not use this file except in compliance with the License.\n",
        "# You may obtain a copy of the License at\n",
        "#\n",
        "# https://www.apache.org/licenses/LICENSE-2.0\n",
        "#\n",
        "# Unless required by applicable law or agreed to in writing, software\n",
        "# distributed under the License is distributed on an \"AS IS\" BASIS,\n",
        "# WITHOUT WARRANTIES OR CONDITIONS OF ANY KIND, either express or implied.\n",
        "# See the License for the specific language governing permissions and\n",
        "# limitations under the License."
      ],
      "execution_count": 0,
      "outputs": []
    },
    {
      "metadata": {
        "id": "zbIgBK-oXHO7",
        "colab_type": "text"
      },
      "cell_type": "markdown",
      "source": [
        " # Ensembles de caractéristiques"
      ]
    },
    {
      "metadata": {
        "id": "bL04rAQwH3pH",
        "colab_type": "text"
      },
      "cell_type": "markdown",
      "source": [
        " **Objectif d'apprentissage :** Créer un ensemble de caractéristiques minimal offrant des performances identiques à un ensemble plus complexe"
      ]
    },
    {
      "metadata": {
        "id": "F8Hci6tAH3pH",
        "colab_type": "text"
      },
      "cell_type": "markdown",
      "source": [
        " Jusqu'à présent, toutes les caractéristiques ont été intégrées dans le modèle. Cependant, un modèle qui contient moins de caractéristiques utilise moins de ressources et s'avère plus facile à gérer. Voyons s'il est possible de construire un modèle basé sur un ensemble minimal de caractéristiques immobilières, mais offrant les mêmes performances qu'un modèle intégrant toutes les caractéristiques de l'ensemble de données."
      ]
    },
    {
      "metadata": {
        "id": "F5ZjVwK_qOyR",
        "colab_type": "text"
      },
      "cell_type": "markdown",
      "source": [
        " ## Configuration\n",
        "\n",
        "Une fois encore, vous allez commencer par charger et préparer les données sur l'immobilier en Californie."
      ]
    },
    {
      "metadata": {
        "id": "SrOYRILAH3pJ",
        "colab_type": "code",
        "colab": {}
      },
      "cell_type": "code",
      "source": [
        "from __future__ import print_function\n",
        "\n",
        "import math\n",
        "\n",
        "from IPython import display\n",
        "from matplotlib import cm\n",
        "from matplotlib import gridspec\n",
        "from matplotlib import pyplot as plt\n",
        "import numpy as np\n",
        "import pandas as pd\n",
        "from sklearn import metrics\n",
        "import tensorflow as tf\n",
        "from tensorflow.python.data import Dataset\n",
        "\n",
        "tf.logging.set_verbosity(tf.logging.ERROR)\n",
        "pd.options.display.max_rows = 10\n",
        "pd.options.display.float_format = '{:.1f}'.format\n",
        "\n",
        "california_housing_dataframe = pd.read_csv(\"https://download.mlcc.google.com/mledu-datasets/california_housing_train.csv\", sep=\",\")\n",
        "\n",
        "california_housing_dataframe = california_housing_dataframe.reindex(\n",
        "    np.random.permutation(california_housing_dataframe.index))"
      ],
      "execution_count": 0,
      "outputs": []
    },
    {
      "metadata": {
        "id": "dGnXo7flH3pM",
        "colab_type": "code",
        "colab": {}
      },
      "cell_type": "code",
      "source": [
        "def preprocess_features(california_housing_dataframe):\n",
        "  \"\"\"Prepares input features from California housing data set.\n",
        "\n",
        "  Args:\n",
        "    california_housing_dataframe: A Pandas DataFrame expected to contain data\n",
        "      from the California housing data set.\n",
        "  Returns:\n",
        "    A DataFrame that contains the features to be used for the model, including\n",
        "    synthetic features.\n",
        "  \"\"\"\n",
        "  selected_features = california_housing_dataframe[\n",
        "    [\"latitude\",\n",
        "     \"longitude\",\n",
        "     \"housing_median_age\",\n",
        "     \"total_rooms\",\n",
        "     \"total_bedrooms\",\n",
        "     \"population\",\n",
        "     \"households\",\n",
        "     \"median_income\"]]\n",
        "  processed_features = selected_features.copy()\n",
        "  # Create a synthetic feature.\n",
        "  processed_features[\"rooms_per_person\"] = (\n",
        "    california_housing_dataframe[\"total_rooms\"] /\n",
        "    california_housing_dataframe[\"population\"])\n",
        "  return processed_features\n",
        "\n",
        "def preprocess_targets(california_housing_dataframe):\n",
        "  \"\"\"Prepares target features (i.e., labels) from California housing data set.\n",
        "\n",
        "  Args:\n",
        "    california_housing_dataframe: A Pandas DataFrame expected to contain data\n",
        "      from the California housing data set.\n",
        "  Returns:\n",
        "    A DataFrame that contains the target feature.\n",
        "  \"\"\"\n",
        "  output_targets = pd.DataFrame()\n",
        "  # Scale the target to be in units of thousands of dollars.\n",
        "  output_targets[\"median_house_value\"] = (\n",
        "    california_housing_dataframe[\"median_house_value\"] / 1000.0)\n",
        "  return output_targets"
      ],
      "execution_count": 0,
      "outputs": []
    },
    {
      "metadata": {
        "id": "jLXC8y4AqsIy",
        "colab_type": "code",
        "colab": {
          "base_uri": "https://localhost:8080/",
          "height": 1222
        },
        "outputId": "fa2362c4-d216-4a66-a24e-3243530218cd"
      },
      "cell_type": "code",
      "source": [
        "# Choose the first 12000 (out of 17000) examples for training.\n",
        "training_examples = preprocess_features(california_housing_dataframe.head(12000))\n",
        "training_targets = preprocess_targets(california_housing_dataframe.head(12000))\n",
        "\n",
        "# Choose the last 5000 (out of 17000) examples for validation.\n",
        "validation_examples = preprocess_features(california_housing_dataframe.tail(5000))\n",
        "validation_targets = preprocess_targets(california_housing_dataframe.tail(5000))\n",
        "\n",
        "# Double-check that we've done the right thing.\n",
        "print(\"Training examples summary:\")\n",
        "display.display(training_examples.describe())\n",
        "print(\"Validation examples summary:\")\n",
        "display.display(validation_examples.describe())\n",
        "\n",
        "print(\"Training targets summary:\")\n",
        "display.display(training_targets.describe())\n",
        "print(\"Validation targets summary:\")\n",
        "display.display(validation_targets.describe())"
      ],
      "execution_count": 4,
      "outputs": [
        {
          "output_type": "stream",
          "text": [
            "Training examples summary:\n"
          ],
          "name": "stdout"
        },
        {
          "output_type": "display_data",
          "data": {
            "text/html": [
              "<div>\n",
              "<style scoped>\n",
              "    .dataframe tbody tr th:only-of-type {\n",
              "        vertical-align: middle;\n",
              "    }\n",
              "\n",
              "    .dataframe tbody tr th {\n",
              "        vertical-align: top;\n",
              "    }\n",
              "\n",
              "    .dataframe thead th {\n",
              "        text-align: right;\n",
              "    }\n",
              "</style>\n",
              "<table border=\"1\" class=\"dataframe\">\n",
              "  <thead>\n",
              "    <tr style=\"text-align: right;\">\n",
              "      <th></th>\n",
              "      <th>latitude</th>\n",
              "      <th>longitude</th>\n",
              "      <th>housing_median_age</th>\n",
              "      <th>total_rooms</th>\n",
              "      <th>total_bedrooms</th>\n",
              "      <th>population</th>\n",
              "      <th>households</th>\n",
              "      <th>median_income</th>\n",
              "      <th>rooms_per_person</th>\n",
              "    </tr>\n",
              "  </thead>\n",
              "  <tbody>\n",
              "    <tr>\n",
              "      <th>count</th>\n",
              "      <td>12000.0</td>\n",
              "      <td>12000.0</td>\n",
              "      <td>12000.0</td>\n",
              "      <td>12000.0</td>\n",
              "      <td>12000.0</td>\n",
              "      <td>12000.0</td>\n",
              "      <td>12000.0</td>\n",
              "      <td>12000.0</td>\n",
              "      <td>12000.0</td>\n",
              "    </tr>\n",
              "    <tr>\n",
              "      <th>mean</th>\n",
              "      <td>35.6</td>\n",
              "      <td>-119.5</td>\n",
              "      <td>28.6</td>\n",
              "      <td>2652.4</td>\n",
              "      <td>540.1</td>\n",
              "      <td>1433.9</td>\n",
              "      <td>502.2</td>\n",
              "      <td>3.9</td>\n",
              "      <td>2.0</td>\n",
              "    </tr>\n",
              "    <tr>\n",
              "      <th>std</th>\n",
              "      <td>2.1</td>\n",
              "      <td>2.0</td>\n",
              "      <td>12.6</td>\n",
              "      <td>2173.1</td>\n",
              "      <td>421.0</td>\n",
              "      <td>1160.6</td>\n",
              "      <td>384.3</td>\n",
              "      <td>1.9</td>\n",
              "      <td>1.2</td>\n",
              "    </tr>\n",
              "    <tr>\n",
              "      <th>min</th>\n",
              "      <td>32.5</td>\n",
              "      <td>-124.3</td>\n",
              "      <td>1.0</td>\n",
              "      <td>2.0</td>\n",
              "      <td>1.0</td>\n",
              "      <td>3.0</td>\n",
              "      <td>1.0</td>\n",
              "      <td>0.5</td>\n",
              "      <td>0.0</td>\n",
              "    </tr>\n",
              "    <tr>\n",
              "      <th>25%</th>\n",
              "      <td>33.9</td>\n",
              "      <td>-121.8</td>\n",
              "      <td>18.0</td>\n",
              "      <td>1472.8</td>\n",
              "      <td>298.0</td>\n",
              "      <td>793.0</td>\n",
              "      <td>283.0</td>\n",
              "      <td>2.6</td>\n",
              "      <td>1.5</td>\n",
              "    </tr>\n",
              "    <tr>\n",
              "      <th>50%</th>\n",
              "      <td>34.2</td>\n",
              "      <td>-118.5</td>\n",
              "      <td>29.0</td>\n",
              "      <td>2136.0</td>\n",
              "      <td>433.0</td>\n",
              "      <td>1166.0</td>\n",
              "      <td>408.0</td>\n",
              "      <td>3.6</td>\n",
              "      <td>1.9</td>\n",
              "    </tr>\n",
              "    <tr>\n",
              "      <th>75%</th>\n",
              "      <td>37.7</td>\n",
              "      <td>-118.0</td>\n",
              "      <td>37.0</td>\n",
              "      <td>3162.2</td>\n",
              "      <td>651.0</td>\n",
              "      <td>1727.2</td>\n",
              "      <td>608.0</td>\n",
              "      <td>4.8</td>\n",
              "      <td>2.3</td>\n",
              "    </tr>\n",
              "    <tr>\n",
              "      <th>max</th>\n",
              "      <td>42.0</td>\n",
              "      <td>-114.3</td>\n",
              "      <td>52.0</td>\n",
              "      <td>32627.0</td>\n",
              "      <td>6445.0</td>\n",
              "      <td>35682.0</td>\n",
              "      <td>6082.0</td>\n",
              "      <td>15.0</td>\n",
              "      <td>55.2</td>\n",
              "    </tr>\n",
              "  </tbody>\n",
              "</table>\n",
              "</div>"
            ],
            "text/plain": [
              "       latitude  longitude  housing_median_age  total_rooms  total_bedrooms  \\\n",
              "count   12000.0    12000.0             12000.0      12000.0         12000.0   \n",
              "mean       35.6     -119.5                28.6       2652.4           540.1   \n",
              "std         2.1        2.0                12.6       2173.1           421.0   \n",
              "min        32.5     -124.3                 1.0          2.0             1.0   \n",
              "25%        33.9     -121.8                18.0       1472.8           298.0   \n",
              "50%        34.2     -118.5                29.0       2136.0           433.0   \n",
              "75%        37.7     -118.0                37.0       3162.2           651.0   \n",
              "max        42.0     -114.3                52.0      32627.0          6445.0   \n",
              "\n",
              "       population  households  median_income  rooms_per_person  \n",
              "count     12000.0     12000.0        12000.0           12000.0  \n",
              "mean       1433.9       502.2            3.9               2.0  \n",
              "std        1160.6       384.3            1.9               1.2  \n",
              "min           3.0         1.0            0.5               0.0  \n",
              "25%         793.0       283.0            2.6               1.5  \n",
              "50%        1166.0       408.0            3.6               1.9  \n",
              "75%        1727.2       608.0            4.8               2.3  \n",
              "max       35682.0      6082.0           15.0              55.2  "
            ]
          },
          "metadata": {
            "tags": []
          }
        },
        {
          "output_type": "stream",
          "text": [
            "Validation examples summary:\n"
          ],
          "name": "stdout"
        },
        {
          "output_type": "display_data",
          "data": {
            "text/html": [
              "<div>\n",
              "<style scoped>\n",
              "    .dataframe tbody tr th:only-of-type {\n",
              "        vertical-align: middle;\n",
              "    }\n",
              "\n",
              "    .dataframe tbody tr th {\n",
              "        vertical-align: top;\n",
              "    }\n",
              "\n",
              "    .dataframe thead th {\n",
              "        text-align: right;\n",
              "    }\n",
              "</style>\n",
              "<table border=\"1\" class=\"dataframe\">\n",
              "  <thead>\n",
              "    <tr style=\"text-align: right;\">\n",
              "      <th></th>\n",
              "      <th>latitude</th>\n",
              "      <th>longitude</th>\n",
              "      <th>housing_median_age</th>\n",
              "      <th>total_rooms</th>\n",
              "      <th>total_bedrooms</th>\n",
              "      <th>population</th>\n",
              "      <th>households</th>\n",
              "      <th>median_income</th>\n",
              "      <th>rooms_per_person</th>\n",
              "    </tr>\n",
              "  </thead>\n",
              "  <tbody>\n",
              "    <tr>\n",
              "      <th>count</th>\n",
              "      <td>5000.0</td>\n",
              "      <td>5000.0</td>\n",
              "      <td>5000.0</td>\n",
              "      <td>5000.0</td>\n",
              "      <td>5000.0</td>\n",
              "      <td>5000.0</td>\n",
              "      <td>5000.0</td>\n",
              "      <td>5000.0</td>\n",
              "      <td>5000.0</td>\n",
              "    </tr>\n",
              "    <tr>\n",
              "      <th>mean</th>\n",
              "      <td>35.7</td>\n",
              "      <td>-119.6</td>\n",
              "      <td>28.6</td>\n",
              "      <td>2622.6</td>\n",
              "      <td>537.7</td>\n",
              "      <td>1419.1</td>\n",
              "      <td>498.9</td>\n",
              "      <td>3.9</td>\n",
              "      <td>2.0</td>\n",
              "    </tr>\n",
              "    <tr>\n",
              "      <th>std</th>\n",
              "      <td>2.1</td>\n",
              "      <td>2.0</td>\n",
              "      <td>12.6</td>\n",
              "      <td>2196.4</td>\n",
              "      <td>422.8</td>\n",
              "      <td>1116.8</td>\n",
              "      <td>385.0</td>\n",
              "      <td>1.9</td>\n",
              "      <td>1.0</td>\n",
              "    </tr>\n",
              "    <tr>\n",
              "      <th>min</th>\n",
              "      <td>32.6</td>\n",
              "      <td>-124.2</td>\n",
              "      <td>1.0</td>\n",
              "      <td>15.0</td>\n",
              "      <td>3.0</td>\n",
              "      <td>9.0</td>\n",
              "      <td>5.0</td>\n",
              "      <td>0.5</td>\n",
              "      <td>0.1</td>\n",
              "    </tr>\n",
              "    <tr>\n",
              "      <th>25%</th>\n",
              "      <td>33.9</td>\n",
              "      <td>-121.8</td>\n",
              "      <td>18.0</td>\n",
              "      <td>1428.8</td>\n",
              "      <td>291.0</td>\n",
              "      <td>780.8</td>\n",
              "      <td>274.0</td>\n",
              "      <td>2.5</td>\n",
              "      <td>1.5</td>\n",
              "    </tr>\n",
              "    <tr>\n",
              "      <th>50%</th>\n",
              "      <td>34.3</td>\n",
              "      <td>-118.5</td>\n",
              "      <td>28.5</td>\n",
              "      <td>2107.5</td>\n",
              "      <td>435.0</td>\n",
              "      <td>1168.0</td>\n",
              "      <td>410.0</td>\n",
              "      <td>3.5</td>\n",
              "      <td>1.9</td>\n",
              "    </tr>\n",
              "    <tr>\n",
              "      <th>75%</th>\n",
              "      <td>37.7</td>\n",
              "      <td>-118.0</td>\n",
              "      <td>37.0</td>\n",
              "      <td>3123.2</td>\n",
              "      <td>643.2</td>\n",
              "      <td>1707.8</td>\n",
              "      <td>598.0</td>\n",
              "      <td>4.7</td>\n",
              "      <td>2.3</td>\n",
              "    </tr>\n",
              "    <tr>\n",
              "      <th>max</th>\n",
              "      <td>42.0</td>\n",
              "      <td>-114.5</td>\n",
              "      <td>52.0</td>\n",
              "      <td>37937.0</td>\n",
              "      <td>5471.0</td>\n",
              "      <td>16122.0</td>\n",
              "      <td>5189.0</td>\n",
              "      <td>15.0</td>\n",
              "      <td>27.1</td>\n",
              "    </tr>\n",
              "  </tbody>\n",
              "</table>\n",
              "</div>"
            ],
            "text/plain": [
              "       latitude  longitude  housing_median_age  total_rooms  total_bedrooms  \\\n",
              "count    5000.0     5000.0              5000.0       5000.0          5000.0   \n",
              "mean       35.7     -119.6                28.6       2622.6           537.7   \n",
              "std         2.1        2.0                12.6       2196.4           422.8   \n",
              "min        32.6     -124.2                 1.0         15.0             3.0   \n",
              "25%        33.9     -121.8                18.0       1428.8           291.0   \n",
              "50%        34.3     -118.5                28.5       2107.5           435.0   \n",
              "75%        37.7     -118.0                37.0       3123.2           643.2   \n",
              "max        42.0     -114.5                52.0      37937.0          5471.0   \n",
              "\n",
              "       population  households  median_income  rooms_per_person  \n",
              "count      5000.0      5000.0         5000.0            5000.0  \n",
              "mean       1419.1       498.9            3.9               2.0  \n",
              "std        1116.8       385.0            1.9               1.0  \n",
              "min           9.0         5.0            0.5               0.1  \n",
              "25%         780.8       274.0            2.5               1.5  \n",
              "50%        1168.0       410.0            3.5               1.9  \n",
              "75%        1707.8       598.0            4.7               2.3  \n",
              "max       16122.0      5189.0           15.0              27.1  "
            ]
          },
          "metadata": {
            "tags": []
          }
        },
        {
          "output_type": "stream",
          "text": [
            "Training targets summary:\n"
          ],
          "name": "stdout"
        },
        {
          "output_type": "display_data",
          "data": {
            "text/html": [
              "<div>\n",
              "<style scoped>\n",
              "    .dataframe tbody tr th:only-of-type {\n",
              "        vertical-align: middle;\n",
              "    }\n",
              "\n",
              "    .dataframe tbody tr th {\n",
              "        vertical-align: top;\n",
              "    }\n",
              "\n",
              "    .dataframe thead th {\n",
              "        text-align: right;\n",
              "    }\n",
              "</style>\n",
              "<table border=\"1\" class=\"dataframe\">\n",
              "  <thead>\n",
              "    <tr style=\"text-align: right;\">\n",
              "      <th></th>\n",
              "      <th>median_house_value</th>\n",
              "    </tr>\n",
              "  </thead>\n",
              "  <tbody>\n",
              "    <tr>\n",
              "      <th>count</th>\n",
              "      <td>12000.0</td>\n",
              "    </tr>\n",
              "    <tr>\n",
              "      <th>mean</th>\n",
              "      <td>207.8</td>\n",
              "    </tr>\n",
              "    <tr>\n",
              "      <th>std</th>\n",
              "      <td>116.3</td>\n",
              "    </tr>\n",
              "    <tr>\n",
              "      <th>min</th>\n",
              "      <td>15.0</td>\n",
              "    </tr>\n",
              "    <tr>\n",
              "      <th>25%</th>\n",
              "      <td>120.0</td>\n",
              "    </tr>\n",
              "    <tr>\n",
              "      <th>50%</th>\n",
              "      <td>180.8</td>\n",
              "    </tr>\n",
              "    <tr>\n",
              "      <th>75%</th>\n",
              "      <td>265.1</td>\n",
              "    </tr>\n",
              "    <tr>\n",
              "      <th>max</th>\n",
              "      <td>500.0</td>\n",
              "    </tr>\n",
              "  </tbody>\n",
              "</table>\n",
              "</div>"
            ],
            "text/plain": [
              "       median_house_value\n",
              "count             12000.0\n",
              "mean                207.8\n",
              "std                 116.3\n",
              "min                  15.0\n",
              "25%                 120.0\n",
              "50%                 180.8\n",
              "75%                 265.1\n",
              "max                 500.0"
            ]
          },
          "metadata": {
            "tags": []
          }
        },
        {
          "output_type": "stream",
          "text": [
            "Validation targets summary:\n"
          ],
          "name": "stdout"
        },
        {
          "output_type": "display_data",
          "data": {
            "text/html": [
              "<div>\n",
              "<style scoped>\n",
              "    .dataframe tbody tr th:only-of-type {\n",
              "        vertical-align: middle;\n",
              "    }\n",
              "\n",
              "    .dataframe tbody tr th {\n",
              "        vertical-align: top;\n",
              "    }\n",
              "\n",
              "    .dataframe thead th {\n",
              "        text-align: right;\n",
              "    }\n",
              "</style>\n",
              "<table border=\"1\" class=\"dataframe\">\n",
              "  <thead>\n",
              "    <tr style=\"text-align: right;\">\n",
              "      <th></th>\n",
              "      <th>median_house_value</th>\n",
              "    </tr>\n",
              "  </thead>\n",
              "  <tbody>\n",
              "    <tr>\n",
              "      <th>count</th>\n",
              "      <td>5000.0</td>\n",
              "    </tr>\n",
              "    <tr>\n",
              "      <th>mean</th>\n",
              "      <td>206.1</td>\n",
              "    </tr>\n",
              "    <tr>\n",
              "      <th>std</th>\n",
              "      <td>115.1</td>\n",
              "    </tr>\n",
              "    <tr>\n",
              "      <th>min</th>\n",
              "      <td>15.0</td>\n",
              "    </tr>\n",
              "    <tr>\n",
              "      <th>25%</th>\n",
              "      <td>118.8</td>\n",
              "    </tr>\n",
              "    <tr>\n",
              "      <th>50%</th>\n",
              "      <td>179.2</td>\n",
              "    </tr>\n",
              "    <tr>\n",
              "      <th>75%</th>\n",
              "      <td>264.6</td>\n",
              "    </tr>\n",
              "    <tr>\n",
              "      <th>max</th>\n",
              "      <td>500.0</td>\n",
              "    </tr>\n",
              "  </tbody>\n",
              "</table>\n",
              "</div>"
            ],
            "text/plain": [
              "       median_house_value\n",
              "count              5000.0\n",
              "mean                206.1\n",
              "std                 115.1\n",
              "min                  15.0\n",
              "25%                 118.8\n",
              "50%                 179.2\n",
              "75%                 264.6\n",
              "max                 500.0"
            ]
          },
          "metadata": {
            "tags": []
          }
        }
      ]
    },
    {
      "metadata": {
        "id": "hLvmkugKLany",
        "colab_type": "text"
      },
      "cell_type": "markdown",
      "source": [
        " ## Tâche 1 : Élaborer un ensemble de caractéristiques de bonne qualité\n",
        "\n",
        "**Quelles performances peut-on obtenir avec simplement 2 ou 3 caractéristiques ?**\n",
        "\n",
        "Une **matrice de corrélation** affiche des corrélations par paire, dans lesquelles chaque caractéristique est comparée à la cible, ainsi qu'aux autres caractéristiques.\n",
        "\n",
        "Dans le cas présent, la corrélation est définie comme le [Coefficient de corrélation de Pearson](https://fr.wikipedia.org/wiki/Corrélation_(statistiques)#Coefficient_de_corrélation_linéaire_de_Bravais-Pearson). Vous ne devez pas nécessairement comprendre tous les détails mathématiques pour effectuer cet exercice.\n",
        "\n",
        "La signification des valeurs de corrélation est la suivante :\n",
        "\n",
        "  * `-1.0` : corrélation négative parfaite\n",
        "  * `0.0` : pas de corrélation\n",
        "  * `1.0` : corrélation positive parfaite"
      ]
    },
    {
      "metadata": {
        "id": "UzoZUSdLIolF",
        "colab_type": "code",
        "cellView": "both",
        "colab": {
          "test": {
            "output": "ignore",
            "timeout": 600
          },
          "base_uri": "https://localhost:8080/",
          "height": 383
        },
        "outputId": "2b4d76ec-0e3e-4838-8b91-57c0b9a17cb1"
      },
      "cell_type": "code",
      "source": [
        "correlation_dataframe = training_examples.copy()\n",
        "correlation_dataframe[\"target\"] = training_targets[\"median_house_value\"]\n",
        "\n",
        "correlation_dataframe.corr()"
      ],
      "execution_count": 5,
      "outputs": [
        {
          "output_type": "execute_result",
          "data": {
            "text/html": [
              "<div>\n",
              "<style scoped>\n",
              "    .dataframe tbody tr th:only-of-type {\n",
              "        vertical-align: middle;\n",
              "    }\n",
              "\n",
              "    .dataframe tbody tr th {\n",
              "        vertical-align: top;\n",
              "    }\n",
              "\n",
              "    .dataframe thead th {\n",
              "        text-align: right;\n",
              "    }\n",
              "</style>\n",
              "<table border=\"1\" class=\"dataframe\">\n",
              "  <thead>\n",
              "    <tr style=\"text-align: right;\">\n",
              "      <th></th>\n",
              "      <th>latitude</th>\n",
              "      <th>longitude</th>\n",
              "      <th>housing_median_age</th>\n",
              "      <th>total_rooms</th>\n",
              "      <th>total_bedrooms</th>\n",
              "      <th>population</th>\n",
              "      <th>households</th>\n",
              "      <th>median_income</th>\n",
              "      <th>rooms_per_person</th>\n",
              "      <th>target</th>\n",
              "    </tr>\n",
              "  </thead>\n",
              "  <tbody>\n",
              "    <tr>\n",
              "      <th>latitude</th>\n",
              "      <td>1.0</td>\n",
              "      <td>-0.9</td>\n",
              "      <td>0.0</td>\n",
              "      <td>-0.0</td>\n",
              "      <td>-0.1</td>\n",
              "      <td>-0.1</td>\n",
              "      <td>-0.1</td>\n",
              "      <td>-0.1</td>\n",
              "      <td>0.1</td>\n",
              "      <td>-0.1</td>\n",
              "    </tr>\n",
              "    <tr>\n",
              "      <th>longitude</th>\n",
              "      <td>-0.9</td>\n",
              "      <td>1.0</td>\n",
              "      <td>-0.1</td>\n",
              "      <td>0.0</td>\n",
              "      <td>0.1</td>\n",
              "      <td>0.1</td>\n",
              "      <td>0.1</td>\n",
              "      <td>-0.0</td>\n",
              "      <td>-0.1</td>\n",
              "      <td>-0.0</td>\n",
              "    </tr>\n",
              "    <tr>\n",
              "      <th>housing_median_age</th>\n",
              "      <td>0.0</td>\n",
              "      <td>-0.1</td>\n",
              "      <td>1.0</td>\n",
              "      <td>-0.4</td>\n",
              "      <td>-0.3</td>\n",
              "      <td>-0.3</td>\n",
              "      <td>-0.3</td>\n",
              "      <td>-0.1</td>\n",
              "      <td>-0.1</td>\n",
              "      <td>0.1</td>\n",
              "    </tr>\n",
              "    <tr>\n",
              "      <th>total_rooms</th>\n",
              "      <td>-0.0</td>\n",
              "      <td>0.0</td>\n",
              "      <td>-0.4</td>\n",
              "      <td>1.0</td>\n",
              "      <td>0.9</td>\n",
              "      <td>0.9</td>\n",
              "      <td>0.9</td>\n",
              "      <td>0.2</td>\n",
              "      <td>0.1</td>\n",
              "      <td>0.1</td>\n",
              "    </tr>\n",
              "    <tr>\n",
              "      <th>total_bedrooms</th>\n",
              "      <td>-0.1</td>\n",
              "      <td>0.1</td>\n",
              "      <td>-0.3</td>\n",
              "      <td>0.9</td>\n",
              "      <td>1.0</td>\n",
              "      <td>0.9</td>\n",
              "      <td>1.0</td>\n",
              "      <td>-0.0</td>\n",
              "      <td>0.0</td>\n",
              "      <td>0.0</td>\n",
              "    </tr>\n",
              "    <tr>\n",
              "      <th>population</th>\n",
              "      <td>-0.1</td>\n",
              "      <td>0.1</td>\n",
              "      <td>-0.3</td>\n",
              "      <td>0.9</td>\n",
              "      <td>0.9</td>\n",
              "      <td>1.0</td>\n",
              "      <td>0.9</td>\n",
              "      <td>-0.0</td>\n",
              "      <td>-0.1</td>\n",
              "      <td>-0.0</td>\n",
              "    </tr>\n",
              "    <tr>\n",
              "      <th>households</th>\n",
              "      <td>-0.1</td>\n",
              "      <td>0.1</td>\n",
              "      <td>-0.3</td>\n",
              "      <td>0.9</td>\n",
              "      <td>1.0</td>\n",
              "      <td>0.9</td>\n",
              "      <td>1.0</td>\n",
              "      <td>0.0</td>\n",
              "      <td>-0.0</td>\n",
              "      <td>0.1</td>\n",
              "    </tr>\n",
              "    <tr>\n",
              "      <th>median_income</th>\n",
              "      <td>-0.1</td>\n",
              "      <td>-0.0</td>\n",
              "      <td>-0.1</td>\n",
              "      <td>0.2</td>\n",
              "      <td>-0.0</td>\n",
              "      <td>-0.0</td>\n",
              "      <td>0.0</td>\n",
              "      <td>1.0</td>\n",
              "      <td>0.2</td>\n",
              "      <td>0.7</td>\n",
              "    </tr>\n",
              "    <tr>\n",
              "      <th>rooms_per_person</th>\n",
              "      <td>0.1</td>\n",
              "      <td>-0.1</td>\n",
              "      <td>-0.1</td>\n",
              "      <td>0.1</td>\n",
              "      <td>0.0</td>\n",
              "      <td>-0.1</td>\n",
              "      <td>-0.0</td>\n",
              "      <td>0.2</td>\n",
              "      <td>1.0</td>\n",
              "      <td>0.2</td>\n",
              "    </tr>\n",
              "    <tr>\n",
              "      <th>target</th>\n",
              "      <td>-0.1</td>\n",
              "      <td>-0.0</td>\n",
              "      <td>0.1</td>\n",
              "      <td>0.1</td>\n",
              "      <td>0.0</td>\n",
              "      <td>-0.0</td>\n",
              "      <td>0.1</td>\n",
              "      <td>0.7</td>\n",
              "      <td>0.2</td>\n",
              "      <td>1.0</td>\n",
              "    </tr>\n",
              "  </tbody>\n",
              "</table>\n",
              "</div>"
            ],
            "text/plain": [
              "                    latitude  longitude  housing_median_age  total_rooms  \\\n",
              "latitude                 1.0       -0.9                 0.0         -0.0   \n",
              "longitude               -0.9        1.0                -0.1          0.0   \n",
              "housing_median_age       0.0       -0.1                 1.0         -0.4   \n",
              "total_rooms             -0.0        0.0                -0.4          1.0   \n",
              "total_bedrooms          -0.1        0.1                -0.3          0.9   \n",
              "population              -0.1        0.1                -0.3          0.9   \n",
              "households              -0.1        0.1                -0.3          0.9   \n",
              "median_income           -0.1       -0.0                -0.1          0.2   \n",
              "rooms_per_person         0.1       -0.1                -0.1          0.1   \n",
              "target                  -0.1       -0.0                 0.1          0.1   \n",
              "\n",
              "                    total_bedrooms  population  households  median_income  \\\n",
              "latitude                      -0.1        -0.1        -0.1           -0.1   \n",
              "longitude                      0.1         0.1         0.1           -0.0   \n",
              "housing_median_age            -0.3        -0.3        -0.3           -0.1   \n",
              "total_rooms                    0.9         0.9         0.9            0.2   \n",
              "total_bedrooms                 1.0         0.9         1.0           -0.0   \n",
              "population                     0.9         1.0         0.9           -0.0   \n",
              "households                     1.0         0.9         1.0            0.0   \n",
              "median_income                 -0.0        -0.0         0.0            1.0   \n",
              "rooms_per_person               0.0        -0.1        -0.0            0.2   \n",
              "target                         0.0        -0.0         0.1            0.7   \n",
              "\n",
              "                    rooms_per_person  target  \n",
              "latitude                         0.1    -0.1  \n",
              "longitude                       -0.1    -0.0  \n",
              "housing_median_age              -0.1     0.1  \n",
              "total_rooms                      0.1     0.1  \n",
              "total_bedrooms                   0.0     0.0  \n",
              "population                      -0.1    -0.0  \n",
              "households                      -0.0     0.1  \n",
              "median_income                    0.2     0.7  \n",
              "rooms_per_person                 1.0     0.2  \n",
              "target                           0.2     1.0  "
            ]
          },
          "metadata": {
            "tags": []
          },
          "execution_count": 5
        }
      ]
    },
    {
      "metadata": {
        "id": "RQpktkNpia2P",
        "colab_type": "text"
      },
      "cell_type": "markdown",
      "source": [
        " Idéalement, les caractéristiques devraient entretenir une forte corrélation avec la cible.\n",
        "\n",
        "Il serait également souhaitable qu'elles ne soient pas aussi fortement corrélées les unes avec les autres, afin qu'elles ajoutent des informations indépendantes.\n",
        "\n",
        "Utilisez ces informations pour essayer de supprimer des caractéristiques. Vous pouvez également essayer de créer d'autres caractéristiques synthétiques, telles que des ratios de deux caractéristiques brutes.\n",
        "\n",
        "Pour plus de facilité, nous avons inclus le code d'apprentissage de l'exercice précédent."
      ]
    },
    {
      "metadata": {
        "id": "bjR5jWpFr2xs",
        "colab_type": "code",
        "colab": {}
      },
      "cell_type": "code",
      "source": [
        "def construct_feature_columns(input_features):\n",
        "  \"\"\"Construct the TensorFlow Feature Columns.\n",
        "\n",
        "  Args:\n",
        "    input_features: The names of the numerical input features to use.\n",
        "  Returns:\n",
        "    A set of feature columns\n",
        "  \"\"\" \n",
        "  return set([tf.feature_column.numeric_column(my_feature)\n",
        "              for my_feature in input_features])"
      ],
      "execution_count": 0,
      "outputs": []
    },
    {
      "metadata": {
        "id": "jsvKHzRciH9T",
        "colab_type": "code",
        "colab": {}
      },
      "cell_type": "code",
      "source": [
        "def my_input_fn(features, targets, batch_size=1, shuffle=True, num_epochs=None):\n",
        "    \"\"\"Trains a linear regression model.\n",
        "  \n",
        "    Args:\n",
        "      features: pandas DataFrame of features\n",
        "      targets: pandas DataFrame of targets\n",
        "      batch_size: Size of batches to be passed to the model\n",
        "      shuffle: True or False. Whether to shuffle the data.\n",
        "      num_epochs: Number of epochs for which data should be repeated. None = repeat indefinitely\n",
        "    Returns:\n",
        "      Tuple of (features, labels) for next data batch\n",
        "    \"\"\"\n",
        "    \n",
        "    # Convert pandas data into a dict of np arrays.\n",
        "    features = {key:np.array(value) for key,value in dict(features).items()}                                           \n",
        "    \n",
        "    # Construct a dataset, and configure batching/repeating.\n",
        "    ds = Dataset.from_tensor_slices((features,targets)) # warning: 2GB limit\n",
        "    ds = ds.batch(batch_size).repeat(num_epochs)\n",
        "\n",
        "    # Shuffle the data, if specified.\n",
        "    if shuffle:\n",
        "      ds = ds.shuffle(10000)\n",
        "    \n",
        "    # Return the next batch of data.\n",
        "    features, labels = ds.make_one_shot_iterator().get_next()\n",
        "    return features, labels"
      ],
      "execution_count": 0,
      "outputs": []
    },
    {
      "metadata": {
        "id": "g3kjQV9WH3pb",
        "colab_type": "code",
        "colab": {}
      },
      "cell_type": "code",
      "source": [
        "def train_model(\n",
        "    learning_rate,\n",
        "    steps,\n",
        "    batch_size,\n",
        "    training_examples,\n",
        "    training_targets,\n",
        "    validation_examples,\n",
        "    validation_targets):\n",
        "  \"\"\"Trains a linear regression model.\n",
        "  \n",
        "  In addition to training, this function also prints training progress information,\n",
        "  as well as a plot of the training and validation loss over time.\n",
        "  \n",
        "  Args:\n",
        "    learning_rate: A `float`, the learning rate.\n",
        "    steps: A non-zero `int`, the total number of training steps. A training step\n",
        "      consists of a forward and backward pass using a single batch.\n",
        "    batch_size: A non-zero `int`, the batch size.\n",
        "    training_examples: A `DataFrame` containing one or more columns from\n",
        "      `california_housing_dataframe` to use as input features for training.\n",
        "    training_targets: A `DataFrame` containing exactly one column from\n",
        "      `california_housing_dataframe` to use as target for training.\n",
        "    validation_examples: A `DataFrame` containing one or more columns from\n",
        "      `california_housing_dataframe` to use as input features for validation.\n",
        "    validation_targets: A `DataFrame` containing exactly one column from\n",
        "      `california_housing_dataframe` to use as target for validation.\n",
        "      \n",
        "  Returns:\n",
        "    A `LinearRegressor` object trained on the training data.\n",
        "  \"\"\"\n",
        "\n",
        "  periods = 10\n",
        "  steps_per_period = steps / periods\n",
        "\n",
        "  # Create a linear regressor object.\n",
        "  my_optimizer = tf.train.GradientDescentOptimizer(learning_rate=learning_rate)\n",
        "  my_optimizer = tf.contrib.estimator.clip_gradients_by_norm(my_optimizer, 5.0)\n",
        "  linear_regressor = tf.estimator.LinearRegressor(\n",
        "      feature_columns=construct_feature_columns(training_examples),\n",
        "      optimizer=my_optimizer\n",
        "  )\n",
        "    \n",
        "  # Create input functions.\n",
        "  training_input_fn = lambda: my_input_fn(training_examples, \n",
        "                                          training_targets[\"median_house_value\"], \n",
        "                                          batch_size=batch_size)\n",
        "  predict_training_input_fn = lambda: my_input_fn(training_examples, \n",
        "                                                  training_targets[\"median_house_value\"], \n",
        "                                                  num_epochs=1, \n",
        "                                                  shuffle=False)\n",
        "  predict_validation_input_fn = lambda: my_input_fn(validation_examples, \n",
        "                                                    validation_targets[\"median_house_value\"], \n",
        "                                                    num_epochs=1, \n",
        "                                                    shuffle=False)\n",
        "\n",
        "  # Train the model, but do so inside a loop so that we can periodically assess\n",
        "  # loss metrics.\n",
        "  print(\"Training model...\")\n",
        "  print(\"RMSE (on training data):\")\n",
        "  training_rmse = []\n",
        "  validation_rmse = []\n",
        "  for period in range (0, periods):\n",
        "    # Train the model, starting from the prior state.\n",
        "    linear_regressor.train(\n",
        "        input_fn=training_input_fn,\n",
        "        steps=steps_per_period,\n",
        "    )\n",
        "    # Take a break and compute predictions.\n",
        "    training_predictions = linear_regressor.predict(input_fn=predict_training_input_fn)\n",
        "    training_predictions = np.array([item['predictions'][0] for item in training_predictions])\n",
        "    \n",
        "    validation_predictions = linear_regressor.predict(input_fn=predict_validation_input_fn)\n",
        "    validation_predictions = np.array([item['predictions'][0] for item in validation_predictions])\n",
        "    \n",
        "    # Compute training and validation loss.\n",
        "    training_root_mean_squared_error = math.sqrt(\n",
        "        metrics.mean_squared_error(training_predictions, training_targets))\n",
        "    validation_root_mean_squared_error = math.sqrt(\n",
        "        metrics.mean_squared_error(validation_predictions, validation_targets))\n",
        "    # Occasionally print the current loss.\n",
        "    print(\"  period %02d : %0.2f\" % (period, training_root_mean_squared_error))\n",
        "    # Add the loss metrics from this period to our list.\n",
        "    training_rmse.append(training_root_mean_squared_error)\n",
        "    validation_rmse.append(validation_root_mean_squared_error)\n",
        "  print(\"Model training finished.\")\n",
        "\n",
        "  \n",
        "  # Output a graph of loss metrics over periods.\n",
        "  plt.ylabel(\"RMSE\")\n",
        "  plt.xlabel(\"Periods\")\n",
        "  plt.title(\"Root Mean Squared Error vs. Periods\")\n",
        "  plt.tight_layout()\n",
        "  plt.plot(training_rmse, label=\"training\")\n",
        "  plt.plot(validation_rmse, label=\"validation\")\n",
        "  plt.legend()\n",
        "\n",
        "  return linear_regressor"
      ],
      "execution_count": 0,
      "outputs": []
    },
    {
      "metadata": {
        "id": "varLu7RNH3pf",
        "colab_type": "text"
      },
      "cell_type": "markdown",
      "source": [
        " Vous allez maintenant consacrer cinq minutes à la recherche d'un ensemble satisfaisant de caractéristiques et de paramètres d'apprentissage. Pour rappel, les paramètres d'apprentissage peuvent être différents suivant les caractéristiques."
      ]
    },
    {
      "metadata": {
        "id": "DSgUxRIlH3pg",
        "colab_type": "code",
        "colab": {
          "base_uri": "https://localhost:8080/",
          "height": 655
        },
        "outputId": "b70c5e41-5af5-47e6-f0a6-4e69a0ba163b"
      },
      "cell_type": "code",
      "source": [
        "#\n",
        "# Your code here: add your features of choice as a list of quoted strings.\n",
        "#\n",
        "minimal_features = [\n",
        "    \"median_income\",\n",
        "    \"latitude\",\n",
        "    'rooms_per_person'\n",
        "]\n",
        "\n",
        "assert minimal_features, \"You must select at least one feature!\"\n",
        "\n",
        "minimal_training_examples = training_examples[minimal_features]\n",
        "minimal_validation_examples = validation_examples[minimal_features]\n",
        "\n",
        "#\n",
        "# Don't forget to adjust these parameters.\n",
        "#\n",
        "train_model(\n",
        "    learning_rate=0.001,\n",
        "    steps=500,\n",
        "    batch_size=5,\n",
        "    training_examples=minimal_training_examples,\n",
        "    training_targets=training_targets,\n",
        "    validation_examples=minimal_validation_examples,\n",
        "    validation_targets=validation_targets)"
      ],
      "execution_count": 9,
      "outputs": [
        {
          "output_type": "stream",
          "text": [
            "Training model...\n",
            "RMSE (on training data):\n",
            "  period 00 : 230.39\n",
            "  period 01 : 222.72\n",
            "  period 02 : 215.14\n",
            "  period 03 : 207.68\n",
            "  period 04 : 200.34\n",
            "  period 05 : 193.15\n",
            "  period 06 : 186.10\n",
            "  period 07 : 179.23\n",
            "  period 08 : 172.56\n",
            "  period 09 : 166.10\n",
            "Model training finished.\n"
          ],
          "name": "stdout"
        },
        {
          "output_type": "execute_result",
          "data": {
            "text/plain": [
              "<tensorflow.python.estimator.canned.linear.LinearRegressor at 0x7f3f2168d390>"
            ]
          },
          "metadata": {
            "tags": []
          },
          "execution_count": 9
        },
        {
          "output_type": "display_data",
          "data": {
            "image/png": "[encoded data removed]",
            "text/plain": [
              "<matplotlib.figure.Figure at 0x7f3f1bdb7518>"
            ]
          },
          "metadata": {
            "tags": []
          }
        }
      ]
    },
    {
      "metadata": {
        "id": "IGINhMIJ5Wyt",
        "colab_type": "text"
      },
      "cell_type": "markdown",
      "source": [
        " ### Solution\n",
        "\n",
        "Cliquez ci-dessous pour afficher une solution."
      ]
    },
    {
      "metadata": {
        "id": "BAGoXFPZ5ZE3",
        "colab_type": "code",
        "colab": {
          "base_uri": "https://localhost:8080/",
          "height": 637
        },
        "outputId": "9b0f4236-a3c7-4890-c81e-a20ecf2b7a37"
      },
      "cell_type": "code",
      "source": [
        "minimal_features = [\n",
        "  \"median_income\",\n",
        "  \"latitude\",\n",
        "]\n",
        "\n",
        "minimal_training_examples = training_examples[minimal_features]\n",
        "minimal_validation_examples = validation_examples[minimal_features]\n",
        "\n",
        "_ = train_model(\n",
        "    learning_rate=0.01,\n",
        "    steps=500,\n",
        "    batch_size=5,\n",
        "    training_examples=minimal_training_examples,\n",
        "    training_targets=training_targets,\n",
        "    validation_examples=minimal_validation_examples,\n",
        "    validation_targets=validation_targets)"
      ],
      "execution_count": 10,
      "outputs": [
        {
          "output_type": "stream",
          "text": [
            "Training model...\n",
            "RMSE (on training data):\n",
            "  period 00 : 166.21\n",
            "  period 01 : 127.40\n",
            "  period 02 : 118.00\n",
            "  period 03 : 116.33\n",
            "  period 04 : 115.87\n",
            "  period 05 : 115.11\n",
            "  period 06 : 114.57\n",
            "  period 07 : 113.86\n",
            "  period 08 : 113.67\n",
            "  period 09 : 112.98\n",
            "Model training finished.\n"
          ],
          "name": "stdout"
        },
        {
          "output_type": "display_data",
          "data": {
            "image/png": "[encoded data removed]",
            "text/plain": [
              "<matplotlib.figure.Figure at 0x7f3f1be83f60>"
            ]
          },
          "metadata": {
            "tags": []
          }
        }
      ]
    },
    {
      "metadata": {
        "id": "RidI9YhKOiY2",
        "colab_type": "text"
      },
      "cell_type": "markdown",
      "source": [
        " ## Tâche 2 : Mieux exploiter la caractéristique Latitude\n",
        "\n",
        "La représentation graphique des valeurs `latitude` par rapport à `median_house_value` montre qu'il n'y a pas vraiment de lien entre les deux.\n",
        "\n",
        "On constate, en revanche, la présence de quelques pics qui correspondent approximativement à Los Angeles et San Francisco."
      ]
    },
    {
      "metadata": {
        "id": "hfGUKj2IR_F1",
        "colab_type": "code",
        "cellView": "both",
        "colab": {
          "test": {
            "output": "ignore",
            "timeout": 600
          },
          "base_uri": "https://localhost:8080/",
          "height": 365
        },
        "outputId": "60f991b0-08df-4528-f6ae-ed182c9bf42a"
      },
      "cell_type": "code",
      "source": [
        "plt.scatter(training_examples[\"latitude\"], training_targets[\"median_house_value\"])"
      ],
      "execution_count": 11,
      "outputs": [
        {
          "output_type": "execute_result",
          "data": {
            "text/plain": [
              "<matplotlib.collections.PathCollection at 0x7f3f1b5af710>"
            ]
          },
          "metadata": {
            "tags": []
          },
          "execution_count": 11
        },
        {
          "output_type": "display_data",
          "data": {
            "image/png": "[encoded data removed]",
            "text/plain": [
              "<matplotlib.figure.Figure at 0x7f3f1be442e8>"
            ]
          },
          "metadata": {
            "tags": []
          }
        }
      ]
    },
    {
      "metadata": {
        "id": "6N0p91k2iFCP",
        "colab_type": "text"
      },
      "cell_type": "markdown",
      "source": [
        " **Essayez de créer quelques caractéristiques synthétiques qui offrent de meilleures performances avec la latitude.**\n",
        "\n",
        "Vous pouvez, par exemple, créer une caractéristique qui associe `latitude` à la valeur `|latitude - 38|` et lui attribuer le nom `distance_from_san_francisco`.\n",
        "\n",
        "Vous pouvez également diviser l'espace en 10 buckets (`latitude_32_to_33`, `latitude_33_to_34`, etc.) affichant chacun une valeur de `1.0` si `latitude` se situe dans cette plage de buckets et une valeur de `0.0` dans le cas contraire.\n",
        "\n",
        "Utilisez la matrice de corrélation pour faciliter le développement et ajoutez ensuite les buckets à votre modèle si vous trouvez un élément satisfaisant.\n",
        "\n",
        "Quelles sont les meilleures performances qu'il est possible d'obtenir en termes de validation ?"
      ]
    },
    {
      "metadata": {
        "id": "wduJ2B28yMFl",
        "colab_type": "code",
        "cellView": "form",
        "colab": {}
      },
      "cell_type": "code",
      "source": [
        "#\n",
        "# YOUR CODE HERE: Train on a new data set that includes synthetic features based on latitude.\n",
        "#\n",
        "LATITUDE_RANGES = zip(range(32, 44), range(33, 45))\n",
        "\n",
        "def select_and_transform_features(source_df):\n",
        "  selected_examples = pd.DataFrame()\n",
        "  selected_examples[\"median_income\"] = source_df[\"median_income\"]\n",
        "  for r in LATITUDE_RANGES:\n",
        "    selected_examples[\"latitude_%d_to_%d\" % r] = source_df[\"latitude\"].apply(\n",
        "      lambda l: 1.0 if l >= r[0] and l < r[1] else 0.0)\n",
        "  return selected_examples\n",
        "\n",
        "selected_training_examples = select_and_transform_features(training_examples)\n",
        "selected_validation_examples = select_and_transform_features(validation_examples)"
      ],
      "execution_count": 0,
      "outputs": []
    },
    {
      "metadata": {
        "id": "pZa8miwu6_tQ",
        "colab_type": "text"
      },
      "cell_type": "markdown",
      "source": [
        " ### Solution\n",
        "\n",
        "Cliquez ci-dessous pour afficher une solution."
      ]
    },
    {
      "metadata": {
        "id": "PzABdyjq7IZU",
        "colab_type": "text"
      },
      "cell_type": "markdown",
      "source": [
        " Outre `latitude`, vous allez conserver la valeur `median_income` pour effectuer des comparaisons avec les résultats précédents.\n",
        "\n",
        "Nous avons décidé d'effectuer un binning sur la latitude. C'est une opération relativement simple dans Pandas grâce à `Series.apply`."
      ]
    },
    {
      "metadata": {
        "id": "xdVF8siZ7Lup",
        "colab_type": "code",
        "colab": {}
      },
      "cell_type": "code",
      "source": [
        "def select_and_transform_features(source_df):\n",
        "  LATITUDE_RANGES = zip(range(32, 44), range(33, 45))\n",
        "  selected_examples = pd.DataFrame()\n",
        "  selected_examples[\"median_income\"] = source_df[\"median_income\"]\n",
        "  for r in LATITUDE_RANGES:\n",
        "    selected_examples[\"latitude_%d_to_%d\" % r] = source_df[\"latitude\"].apply(\n",
        "      lambda l: 1.0 if l >= r[0] and l < r[1] else 0.0)\n",
        "  return selected_examples\n",
        "\n",
        "selected_training_examples = select_and_transform_features(training_examples)\n",
        "selected_validation_examples = select_and_transform_features(validation_examples)"
      ],
      "execution_count": 0,
      "outputs": []
    },
    {
      "metadata": {
        "id": "U4iAdY6t7Pkh",
        "colab_type": "code",
        "colab": {
          "base_uri": "https://localhost:8080/",
          "height": 637
        },
        "outputId": "dbf279ba-753f-48c1-bcfa-9b32f00a2069"
      },
      "cell_type": "code",
      "source": [
        "_ = train_model(\n",
        "    learning_rate=0.01,\n",
        "    steps=500,\n",
        "    batch_size=5,\n",
        "    training_examples=selected_training_examples,\n",
        "    training_targets=training_targets,\n",
        "    validation_examples=selected_validation_examples,\n",
        "    validation_targets=validation_targets)"
      ],
      "execution_count": 16,
      "outputs": [
        {
          "output_type": "stream",
          "text": [
            "Training model...\n",
            "RMSE (on training data):\n",
            "  period 00 : 227.85\n",
            "  period 01 : 217.60\n",
            "  period 02 : 207.46\n",
            "  period 03 : 197.41\n",
            "  period 04 : 187.48\n",
            "  period 05 : 177.68\n",
            "  period 06 : 168.06\n",
            "  period 07 : 158.62\n",
            "  period 08 : 149.41\n",
            "  period 09 : 140.51\n",
            "Model training finished.\n"
          ],
          "name": "stdout"
        },
        {
          "output_type": "display_data",
          "data": {
            "image/png": "[encoded data removed]",
            "text/plain": [
              "<matplotlib.figure.Figure at 0x7f3f1c023198>"
            ]
          },
          "metadata": {
            "tags": []
          }
        }
      ]
    }
  ]
}